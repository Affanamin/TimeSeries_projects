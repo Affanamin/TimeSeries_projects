{
  "nbformat": 4,
  "nbformat_minor": 0,
  "metadata": {
    "colab": {
      "name": "TimeSeries-RNN-GRU.ipynb",
      "provenance": [],
      "collapsed_sections": [],
      "authorship_tag": "ABX9TyNY8ppZWjJ5vou5O7+AeQEz",
      "include_colab_link": true
    },
    "kernelspec": {
      "name": "python3",
      "display_name": "Python 3"
    },
    "accelerator": "GPU"
  },
  "cells": [
    {
      "cell_type": "markdown",
      "metadata": {
        "id": "view-in-github",
        "colab_type": "text"
      },
      "source": [
        "<a href=\"https://colab.research.google.com/github/Affanamin/TimeSeries_projects/blob/master/TimeSeries_LSTM_HyperParaOptimized.ipynb\" target=\"_parent\"><img src=\"https://colab.research.google.com/assets/colab-badge.svg\" alt=\"Open In Colab\"/></a>"
      ]
    },
    {
      "cell_type": "code",
      "metadata": {
        "id": "JsNLOCgyP9AZ",
        "colab_type": "code",
        "colab": {}
      },
      "source": [
        "%matplotlib inline\n",
        "import matplotlib.pyplot as plt\n",
        "import tensorflow as tf\n",
        "import numpy as np\n",
        "import pandas as pd\n",
        "import os\n",
        "from sklearn.preprocessing import MinMaxScaler"
      ],
      "execution_count": 0,
      "outputs": []
    },
    {
      "cell_type": "code",
      "metadata": {
        "id": "BcwycKJpQDJG",
        "colab_type": "code",
        "colab": {}
      },
      "source": [
        "from tensorflow.keras.models import Sequential\n",
        "from tensorflow.keras.layers import Input, Dense, GRU, Embedding\n",
        "from tensorflow.keras.optimizers import RMSprop\n",
        "from tensorflow.keras.callbacks import EarlyStopping, ModelCheckpoint, TensorBoard, ReduceLROnPlateau\n",
        "from tensorflow.keras.backend import square, mean"
      ],
      "execution_count": 0,
      "outputs": []
    },
    {
      "cell_type": "code",
      "metadata": {
        "id": "XCIBJufY83lp",
        "colab_type": "code",
        "colab": {
          "base_uri": "https://localhost:8080/",
          "height": 165
        },
        "outputId": "5fd943c1-03e9-448b-efc7-b53e2222d3c9"
      },
      "source": [
        "!pip install scikit-optimize"
      ],
      "execution_count": 284,
      "outputs": [
        {
          "output_type": "stream",
          "text": [
            "Requirement already satisfied: scikit-optimize in /usr/local/lib/python3.6/dist-packages (0.7.4)\n",
            "Requirement already satisfied: pyaml>=16.9 in /usr/local/lib/python3.6/dist-packages (from scikit-optimize) (20.4.0)\n",
            "Requirement already satisfied: joblib>=0.11 in /usr/local/lib/python3.6/dist-packages (from scikit-optimize) (0.14.1)\n",
            "Requirement already satisfied: scipy>=0.18.0 in /usr/local/lib/python3.6/dist-packages (from scikit-optimize) (1.4.1)\n",
            "Requirement already satisfied: scikit-learn>=0.19.1 in /usr/local/lib/python3.6/dist-packages (from scikit-optimize) (0.22.2.post1)\n",
            "Requirement already satisfied: numpy>=1.11.0 in /usr/local/lib/python3.6/dist-packages (from scikit-optimize) (1.18.2)\n",
            "Requirement already satisfied: PyYAML in /usr/local/lib/python3.6/dist-packages (from pyaml>=16.9->scikit-optimize) (3.13)\n"
          ],
          "name": "stdout"
        }
      ]
    },
    {
      "cell_type": "code",
      "metadata": {
        "id": "BWoGNn0k8xhp",
        "colab_type": "code",
        "colab": {}
      },
      "source": [
        "import skopt\n",
        "from skopt import gp_minimize, forest_minimize\n",
        "from skopt.space import Real, Categorical, Integer\n",
        "from skopt.plots import plot_convergence\n",
        "from skopt.plots import plot_objective, plot_evaluations\n",
        "#from skopt.plots import plot_histogram, plot_objective_2D\n",
        "from skopt.utils import use_named_args"
      ],
      "execution_count": 0,
      "outputs": []
    },
    {
      "cell_type": "code",
      "metadata": {
        "id": "FqohMa49QWhz",
        "colab_type": "code",
        "colab": {}
      },
      "source": [
        "#from google.colab import files\n",
        "#src = list(files.upload().values())[0]\n",
        "#open('download.py','wb').write(src)\n",
        "import download"
      ],
      "execution_count": 0,
      "outputs": []
    },
    {
      "cell_type": "code",
      "metadata": {
        "id": "AUYaTDoBQYKr",
        "colab_type": "code",
        "colab": {}
      },
      "source": [
        "#from google.colab import files\n",
        "#src = list(files.upload().values())[0]\n",
        "#open('weather.py','wb').write(src)\n",
        "import weather"
      ],
      "execution_count": 0,
      "outputs": []
    },
    {
      "cell_type": "code",
      "metadata": {
        "id": "MiR4oH8wRf49",
        "colab_type": "code",
        "outputId": "6911c431-f05d-43d0-e2a0-24be88fbd661",
        "colab": {
          "base_uri": "https://localhost:8080/",
          "height": 35
        }
      },
      "source": [
        "weather.maybe_download_and_extract()"
      ],
      "execution_count": 288,
      "outputs": [
        {
          "output_type": "stream",
          "text": [
            "Data has apparently already been downloaded and unpacked.\n"
          ],
          "name": "stdout"
        }
      ]
    },
    {
      "cell_type": "code",
      "metadata": {
        "id": "oPkGgRylRf7l",
        "colab_type": "code",
        "outputId": "00bd6388-e284-4f71-8fca-e1325401bb4b",
        "colab": {
          "base_uri": "https://localhost:8080/",
          "height": 35
        }
      },
      "source": [
        "cities = weather.cities\n",
        "cities"
      ],
      "execution_count": 289,
      "outputs": [
        {
          "output_type": "execute_result",
          "data": {
            "text/plain": [
              "['Aalborg', 'Aarhus', 'Esbjerg', 'Odense', 'Roskilde']"
            ]
          },
          "metadata": {
            "tags": []
          },
          "execution_count": 289
        }
      ]
    },
    {
      "cell_type": "code",
      "metadata": {
        "id": "bu43pYCdRf-C",
        "colab_type": "code",
        "outputId": "6aa748ef-35b8-4386-86dc-df7f741dd23c",
        "colab": {
          "base_uri": "https://localhost:8080/",
          "height": 54
        }
      },
      "source": [
        "\n",
        "%%time\n",
        "df = weather.load_resampled_data()"
      ],
      "execution_count": 290,
      "outputs": [
        {
          "output_type": "stream",
          "text": [
            "CPU times: user 19.6 ms, sys: 28.6 ms, total: 48.3 ms\n",
            "Wall time: 51 ms\n"
          ],
          "name": "stdout"
        }
      ]
    },
    {
      "cell_type": "code",
      "metadata": {
        "id": "fUrFVeMYRgAq",
        "colab_type": "code",
        "outputId": "7a512366-2ff0-48c6-f9e9-761cafe10b1f",
        "colab": {
          "base_uri": "https://localhost:8080/",
          "height": 451
        }
      },
      "source": [
        "df.head()"
      ],
      "execution_count": 291,
      "outputs": [
        {
          "output_type": "execute_result",
          "data": {
            "text/html": [
              "<div>\n",
              "<style scoped>\n",
              "    .dataframe tbody tr th:only-of-type {\n",
              "        vertical-align: middle;\n",
              "    }\n",
              "\n",
              "    .dataframe tbody tr th {\n",
              "        vertical-align: top;\n",
              "    }\n",
              "\n",
              "    .dataframe thead tr th {\n",
              "        text-align: left;\n",
              "    }\n",
              "\n",
              "    .dataframe thead tr:last-of-type th {\n",
              "        text-align: right;\n",
              "    }\n",
              "</style>\n",
              "<table border=\"1\" class=\"dataframe\">\n",
              "  <thead>\n",
              "    <tr>\n",
              "      <th></th>\n",
              "      <th colspan=\"4\" halign=\"left\">Aalborg</th>\n",
              "      <th colspan=\"4\" halign=\"left\">Aarhus</th>\n",
              "      <th colspan=\"4\" halign=\"left\">Esbjerg</th>\n",
              "      <th colspan=\"4\" halign=\"left\">Odense</th>\n",
              "      <th colspan=\"4\" halign=\"left\">Roskilde</th>\n",
              "    </tr>\n",
              "    <tr>\n",
              "      <th></th>\n",
              "      <th>Temp</th>\n",
              "      <th>Pressure</th>\n",
              "      <th>WindSpeed</th>\n",
              "      <th>WindDir</th>\n",
              "      <th>Temp</th>\n",
              "      <th>Pressure</th>\n",
              "      <th>WindSpeed</th>\n",
              "      <th>WindDir</th>\n",
              "      <th>Temp</th>\n",
              "      <th>Pressure</th>\n",
              "      <th>WindSpeed</th>\n",
              "      <th>WindDir</th>\n",
              "      <th>Temp</th>\n",
              "      <th>Pressure</th>\n",
              "      <th>WindSpeed</th>\n",
              "      <th>WindDir</th>\n",
              "      <th>Temp</th>\n",
              "      <th>Pressure</th>\n",
              "      <th>WindSpeed</th>\n",
              "      <th>WindDir</th>\n",
              "    </tr>\n",
              "    <tr>\n",
              "      <th>DateTime</th>\n",
              "      <th></th>\n",
              "      <th></th>\n",
              "      <th></th>\n",
              "      <th></th>\n",
              "      <th></th>\n",
              "      <th></th>\n",
              "      <th></th>\n",
              "      <th></th>\n",
              "      <th></th>\n",
              "      <th></th>\n",
              "      <th></th>\n",
              "      <th></th>\n",
              "      <th></th>\n",
              "      <th></th>\n",
              "      <th></th>\n",
              "      <th></th>\n",
              "      <th></th>\n",
              "      <th></th>\n",
              "      <th></th>\n",
              "      <th></th>\n",
              "    </tr>\n",
              "  </thead>\n",
              "  <tbody>\n",
              "    <tr>\n",
              "      <th>1980-03-01 11:00:00</th>\n",
              "      <td>5.000000</td>\n",
              "      <td>1007.766667</td>\n",
              "      <td>10.2</td>\n",
              "      <td>280.000000</td>\n",
              "      <td>5.0</td>\n",
              "      <td>1008.300000</td>\n",
              "      <td>15.4</td>\n",
              "      <td>290.0</td>\n",
              "      <td>6.083333</td>\n",
              "      <td>NaN</td>\n",
              "      <td>12.383333</td>\n",
              "      <td>310.000000</td>\n",
              "      <td>6.142857</td>\n",
              "      <td>1011.066667</td>\n",
              "      <td>12.585714</td>\n",
              "      <td>290.0</td>\n",
              "      <td>5.000000</td>\n",
              "      <td>NaN</td>\n",
              "      <td>11.466667</td>\n",
              "      <td>280.000000</td>\n",
              "    </tr>\n",
              "    <tr>\n",
              "      <th>1980-03-01 12:00:00</th>\n",
              "      <td>5.000000</td>\n",
              "      <td>1008.000000</td>\n",
              "      <td>10.3</td>\n",
              "      <td>290.000000</td>\n",
              "      <td>5.0</td>\n",
              "      <td>1008.600000</td>\n",
              "      <td>13.4</td>\n",
              "      <td>280.0</td>\n",
              "      <td>6.583333</td>\n",
              "      <td>NaN</td>\n",
              "      <td>12.883333</td>\n",
              "      <td>310.000000</td>\n",
              "      <td>7.000000</td>\n",
              "      <td>1011.200000</td>\n",
              "      <td>11.300000</td>\n",
              "      <td>290.0</td>\n",
              "      <td>5.000000</td>\n",
              "      <td>NaN</td>\n",
              "      <td>12.466667</td>\n",
              "      <td>280.000000</td>\n",
              "    </tr>\n",
              "    <tr>\n",
              "      <th>1980-03-01 13:00:00</th>\n",
              "      <td>5.000000</td>\n",
              "      <td>1008.066667</td>\n",
              "      <td>9.7</td>\n",
              "      <td>290.000000</td>\n",
              "      <td>5.0</td>\n",
              "      <td>1008.433333</td>\n",
              "      <td>15.4</td>\n",
              "      <td>280.0</td>\n",
              "      <td>6.888889</td>\n",
              "      <td>NaN</td>\n",
              "      <td>13.244444</td>\n",
              "      <td>309.444444</td>\n",
              "      <td>7.000000</td>\n",
              "      <td>1011.300000</td>\n",
              "      <td>12.118182</td>\n",
              "      <td>290.0</td>\n",
              "      <td>5.166667</td>\n",
              "      <td>NaN</td>\n",
              "      <td>13.133333</td>\n",
              "      <td>278.333333</td>\n",
              "    </tr>\n",
              "    <tr>\n",
              "      <th>1980-03-01 14:00:00</th>\n",
              "      <td>4.333333</td>\n",
              "      <td>1008.133333</td>\n",
              "      <td>11.1</td>\n",
              "      <td>283.333333</td>\n",
              "      <td>5.0</td>\n",
              "      <td>1008.266667</td>\n",
              "      <td>14.9</td>\n",
              "      <td>300.0</td>\n",
              "      <td>6.222222</td>\n",
              "      <td>NaN</td>\n",
              "      <td>12.911111</td>\n",
              "      <td>306.111111</td>\n",
              "      <td>6.857143</td>\n",
              "      <td>1011.400000</td>\n",
              "      <td>12.742857</td>\n",
              "      <td>290.0</td>\n",
              "      <td>5.833333</td>\n",
              "      <td>NaN</td>\n",
              "      <td>12.300000</td>\n",
              "      <td>270.000000</td>\n",
              "    </tr>\n",
              "    <tr>\n",
              "      <th>1980-03-01 15:00:00</th>\n",
              "      <td>4.000000</td>\n",
              "      <td>1008.200000</td>\n",
              "      <td>11.3</td>\n",
              "      <td>280.000000</td>\n",
              "      <td>5.0</td>\n",
              "      <td>1008.100000</td>\n",
              "      <td>17.0</td>\n",
              "      <td>290.0</td>\n",
              "      <td>5.555556</td>\n",
              "      <td>NaN</td>\n",
              "      <td>12.577778</td>\n",
              "      <td>302.777778</td>\n",
              "      <td>6.000000</td>\n",
              "      <td>1011.500000</td>\n",
              "      <td>12.400000</td>\n",
              "      <td>290.0</td>\n",
              "      <td>4.833333</td>\n",
              "      <td>NaN</td>\n",
              "      <td>12.300000</td>\n",
              "      <td>270.000000</td>\n",
              "    </tr>\n",
              "  </tbody>\n",
              "</table>\n",
              "</div>"
            ],
            "text/plain": [
              "                      Aalborg               ...   Roskilde            \n",
              "                         Temp     Pressure  ...  WindSpeed     WindDir\n",
              "DateTime                                    ...                       \n",
              "1980-03-01 11:00:00  5.000000  1007.766667  ...  11.466667  280.000000\n",
              "1980-03-01 12:00:00  5.000000  1008.000000  ...  12.466667  280.000000\n",
              "1980-03-01 13:00:00  5.000000  1008.066667  ...  13.133333  278.333333\n",
              "1980-03-01 14:00:00  4.333333  1008.133333  ...  12.300000  270.000000\n",
              "1980-03-01 15:00:00  4.000000  1008.200000  ...  12.300000  270.000000\n",
              "\n",
              "[5 rows x 20 columns]"
            ]
          },
          "metadata": {
            "tags": []
          },
          "execution_count": 291
        }
      ]
    },
    {
      "cell_type": "code",
      "metadata": {
        "id": "-LQ1qtUvSz5u",
        "colab_type": "code",
        "outputId": "c73b5f89-056f-4616-c2c1-d06830153a17",
        "colab": {
          "base_uri": "https://localhost:8080/",
          "height": 279
        }
      },
      "source": [
        "## EDA Starts Here\n",
        "##Missing Data\n",
        "\n",
        "\n",
        "df['Esbjerg']['Pressure'].plot();\n",
        "\n"
      ],
      "execution_count": 292,
      "outputs": [
        {
          "output_type": "display_data",
          "data": {
            "image/png": "[encoded data removed]",
            "text/plain": [
              "<Figure size 432x288 with 1 Axes>"
            ]
          },
          "metadata": {
            "tags": [],
            "needs_background": "light"
          }
        }
      ]
    },
    {
      "cell_type": "code",
      "metadata": {
        "id": "Vh02e9c3S8Sz",
        "colab_type": "code",
        "outputId": "7927a3af-3b52-435f-b8ab-d481a3c5d35c",
        "colab": {
          "base_uri": "https://localhost:8080/",
          "height": 279
        }
      },
      "source": [
        "df['Roskilde']['Pressure'].plot();"
      ],
      "execution_count": 293,
      "outputs": [
        {
          "output_type": "display_data",
          "data": {
            "image/png": "[encoded data removed]",
            "text/plain": [
              "<Figure size 432x288 with 1 Axes>"
            ]
          },
          "metadata": {
            "tags": [],
            "needs_background": "light"
          }
        }
      ]
    },
    {
      "cell_type": "code",
      "metadata": {
        "id": "hak6qoC3S-yC",
        "colab_type": "code",
        "outputId": "d7b5a42a-b855-4284-dadb-ef63e5f575a2",
        "colab": {
          "base_uri": "https://localhost:8080/",
          "height": 35
        }
      },
      "source": [
        "df.values.shape"
      ],
      "execution_count": 294,
      "outputs": [
        {
          "output_type": "execute_result",
          "data": {
            "text/plain": [
              "(333109, 20)"
            ]
          },
          "metadata": {
            "tags": []
          },
          "execution_count": 294
        }
      ]
    },
    {
      "cell_type": "code",
      "metadata": {
        "id": "1GYIUJJCTBPS",
        "colab_type": "code",
        "colab": {}
      },
      "source": [
        "#Removing Columns\n",
        "df.drop(('Esbjerg', 'Pressure'), axis=1, inplace=True)\n",
        "df.drop(('Roskilde', 'Pressure'), axis=1, inplace=True)"
      ],
      "execution_count": 0,
      "outputs": []
    },
    {
      "cell_type": "code",
      "metadata": {
        "id": "GTRuIUO8TEwi",
        "colab_type": "code",
        "colab": {}
      },
      "source": [
        "##ADD Data  -----------------------------------------------------------------------------------------------------\n",
        "\n",
        "df['Various', 'Day'] = df.index.dayofyear\n",
        "df['Various', 'Hour'] = df.index.hour"
      ],
      "execution_count": 0,
      "outputs": []
    },
    {
      "cell_type": "code",
      "metadata": {
        "id": "pJDU4spLR8Ed",
        "colab_type": "code",
        "outputId": "cd54efb2-96ee-4830-ab72-f163f56242a1",
        "colab": {
          "base_uri": "https://localhost:8080/",
          "height": 833
        }
      },
      "source": [
        "df"
      ],
      "execution_count": 297,
      "outputs": [
        {
          "output_type": "execute_result",
          "data": {
            "text/html": [
              "<div>\n",
              "<style scoped>\n",
              "    .dataframe tbody tr th:only-of-type {\n",
              "        vertical-align: middle;\n",
              "    }\n",
              "\n",
              "    .dataframe tbody tr th {\n",
              "        vertical-align: top;\n",
              "    }\n",
              "\n",
              "    .dataframe thead tr th {\n",
              "        text-align: left;\n",
              "    }\n",
              "\n",
              "    .dataframe thead tr:last-of-type th {\n",
              "        text-align: right;\n",
              "    }\n",
              "</style>\n",
              "<table border=\"1\" class=\"dataframe\">\n",
              "  <thead>\n",
              "    <tr>\n",
              "      <th></th>\n",
              "      <th colspan=\"4\" halign=\"left\">Aalborg</th>\n",
              "      <th colspan=\"4\" halign=\"left\">Aarhus</th>\n",
              "      <th colspan=\"3\" halign=\"left\">Esbjerg</th>\n",
              "      <th colspan=\"4\" halign=\"left\">Odense</th>\n",
              "      <th colspan=\"3\" halign=\"left\">Roskilde</th>\n",
              "      <th colspan=\"2\" halign=\"left\">Various</th>\n",
              "    </tr>\n",
              "    <tr>\n",
              "      <th></th>\n",
              "      <th>Temp</th>\n",
              "      <th>Pressure</th>\n",
              "      <th>WindSpeed</th>\n",
              "      <th>WindDir</th>\n",
              "      <th>Temp</th>\n",
              "      <th>Pressure</th>\n",
              "      <th>WindSpeed</th>\n",
              "      <th>WindDir</th>\n",
              "      <th>Temp</th>\n",
              "      <th>WindSpeed</th>\n",
              "      <th>WindDir</th>\n",
              "      <th>Temp</th>\n",
              "      <th>Pressure</th>\n",
              "      <th>WindSpeed</th>\n",
              "      <th>WindDir</th>\n",
              "      <th>Temp</th>\n",
              "      <th>WindSpeed</th>\n",
              "      <th>WindDir</th>\n",
              "      <th>Day</th>\n",
              "      <th>Hour</th>\n",
              "    </tr>\n",
              "    <tr>\n",
              "      <th>DateTime</th>\n",
              "      <th></th>\n",
              "      <th></th>\n",
              "      <th></th>\n",
              "      <th></th>\n",
              "      <th></th>\n",
              "      <th></th>\n",
              "      <th></th>\n",
              "      <th></th>\n",
              "      <th></th>\n",
              "      <th></th>\n",
              "      <th></th>\n",
              "      <th></th>\n",
              "      <th></th>\n",
              "      <th></th>\n",
              "      <th></th>\n",
              "      <th></th>\n",
              "      <th></th>\n",
              "      <th></th>\n",
              "      <th></th>\n",
              "      <th></th>\n",
              "    </tr>\n",
              "  </thead>\n",
              "  <tbody>\n",
              "    <tr>\n",
              "      <th>1980-03-01 11:00:00</th>\n",
              "      <td>5.000000</td>\n",
              "      <td>1007.766667</td>\n",
              "      <td>10.2</td>\n",
              "      <td>280.000000</td>\n",
              "      <td>5.0</td>\n",
              "      <td>1008.300000</td>\n",
              "      <td>15.4</td>\n",
              "      <td>290.0</td>\n",
              "      <td>6.083333</td>\n",
              "      <td>12.383333</td>\n",
              "      <td>310.000000</td>\n",
              "      <td>6.142857</td>\n",
              "      <td>1011.066667</td>\n",
              "      <td>12.585714</td>\n",
              "      <td>290.0</td>\n",
              "      <td>5.000000</td>\n",
              "      <td>11.466667</td>\n",
              "      <td>280.000000</td>\n",
              "      <td>61</td>\n",
              "      <td>11</td>\n",
              "    </tr>\n",
              "    <tr>\n",
              "      <th>1980-03-01 12:00:00</th>\n",
              "      <td>5.000000</td>\n",
              "      <td>1008.000000</td>\n",
              "      <td>10.3</td>\n",
              "      <td>290.000000</td>\n",
              "      <td>5.0</td>\n",
              "      <td>1008.600000</td>\n",
              "      <td>13.4</td>\n",
              "      <td>280.0</td>\n",
              "      <td>6.583333</td>\n",
              "      <td>12.883333</td>\n",
              "      <td>310.000000</td>\n",
              "      <td>7.000000</td>\n",
              "      <td>1011.200000</td>\n",
              "      <td>11.300000</td>\n",
              "      <td>290.0</td>\n",
              "      <td>5.000000</td>\n",
              "      <td>12.466667</td>\n",
              "      <td>280.000000</td>\n",
              "      <td>61</td>\n",
              "      <td>12</td>\n",
              "    </tr>\n",
              "    <tr>\n",
              "      <th>1980-03-01 13:00:00</th>\n",
              "      <td>5.000000</td>\n",
              "      <td>1008.066667</td>\n",
              "      <td>9.7</td>\n",
              "      <td>290.000000</td>\n",
              "      <td>5.0</td>\n",
              "      <td>1008.433333</td>\n",
              "      <td>15.4</td>\n",
              "      <td>280.0</td>\n",
              "      <td>6.888889</td>\n",
              "      <td>13.244444</td>\n",
              "      <td>309.444444</td>\n",
              "      <td>7.000000</td>\n",
              "      <td>1011.300000</td>\n",
              "      <td>12.118182</td>\n",
              "      <td>290.0</td>\n",
              "      <td>5.166667</td>\n",
              "      <td>13.133333</td>\n",
              "      <td>278.333333</td>\n",
              "      <td>61</td>\n",
              "      <td>13</td>\n",
              "    </tr>\n",
              "    <tr>\n",
              "      <th>1980-03-01 14:00:00</th>\n",
              "      <td>4.333333</td>\n",
              "      <td>1008.133333</td>\n",
              "      <td>11.1</td>\n",
              "      <td>283.333333</td>\n",
              "      <td>5.0</td>\n",
              "      <td>1008.266667</td>\n",
              "      <td>14.9</td>\n",
              "      <td>300.0</td>\n",
              "      <td>6.222222</td>\n",
              "      <td>12.911111</td>\n",
              "      <td>306.111111</td>\n",
              "      <td>6.857143</td>\n",
              "      <td>1011.400000</td>\n",
              "      <td>12.742857</td>\n",
              "      <td>290.0</td>\n",
              "      <td>5.833333</td>\n",
              "      <td>12.300000</td>\n",
              "      <td>270.000000</td>\n",
              "      <td>61</td>\n",
              "      <td>14</td>\n",
              "    </tr>\n",
              "    <tr>\n",
              "      <th>1980-03-01 15:00:00</th>\n",
              "      <td>4.000000</td>\n",
              "      <td>1008.200000</td>\n",
              "      <td>11.3</td>\n",
              "      <td>280.000000</td>\n",
              "      <td>5.0</td>\n",
              "      <td>1008.100000</td>\n",
              "      <td>17.0</td>\n",
              "      <td>290.0</td>\n",
              "      <td>5.555556</td>\n",
              "      <td>12.577778</td>\n",
              "      <td>302.777778</td>\n",
              "      <td>6.000000</td>\n",
              "      <td>1011.500000</td>\n",
              "      <td>12.400000</td>\n",
              "      <td>290.0</td>\n",
              "      <td>4.833333</td>\n",
              "      <td>12.300000</td>\n",
              "      <td>270.000000</td>\n",
              "      <td>61</td>\n",
              "      <td>15</td>\n",
              "    </tr>\n",
              "    <tr>\n",
              "      <th>...</th>\n",
              "      <td>...</td>\n",
              "      <td>...</td>\n",
              "      <td>...</td>\n",
              "      <td>...</td>\n",
              "      <td>...</td>\n",
              "      <td>...</td>\n",
              "      <td>...</td>\n",
              "      <td>...</td>\n",
              "      <td>...</td>\n",
              "      <td>...</td>\n",
              "      <td>...</td>\n",
              "      <td>...</td>\n",
              "      <td>...</td>\n",
              "      <td>...</td>\n",
              "      <td>...</td>\n",
              "      <td>...</td>\n",
              "      <td>...</td>\n",
              "      <td>...</td>\n",
              "      <td>...</td>\n",
              "      <td>...</td>\n",
              "    </tr>\n",
              "    <tr>\n",
              "      <th>2018-03-01 19:00:00</th>\n",
              "      <td>-4.400000</td>\n",
              "      <td>1024.200000</td>\n",
              "      <td>7.2</td>\n",
              "      <td>70.000000</td>\n",
              "      <td>-3.6</td>\n",
              "      <td>1022.700000</td>\n",
              "      <td>8.8</td>\n",
              "      <td>70.0</td>\n",
              "      <td>-5.000000</td>\n",
              "      <td>6.366667</td>\n",
              "      <td>70.000000</td>\n",
              "      <td>-4.400000</td>\n",
              "      <td>1020.400000</td>\n",
              "      <td>8.800000</td>\n",
              "      <td>60.0</td>\n",
              "      <td>-4.400000</td>\n",
              "      <td>6.200000</td>\n",
              "      <td>60.000000</td>\n",
              "      <td>60</td>\n",
              "      <td>19</td>\n",
              "    </tr>\n",
              "    <tr>\n",
              "      <th>2018-03-01 20:00:00</th>\n",
              "      <td>-4.300000</td>\n",
              "      <td>1023.700000</td>\n",
              "      <td>6.7</td>\n",
              "      <td>70.000000</td>\n",
              "      <td>-3.9</td>\n",
              "      <td>1022.200000</td>\n",
              "      <td>8.2</td>\n",
              "      <td>60.0</td>\n",
              "      <td>-4.333333</td>\n",
              "      <td>6.866667</td>\n",
              "      <td>80.000000</td>\n",
              "      <td>-5.000000</td>\n",
              "      <td>1019.800000</td>\n",
              "      <td>8.200000</td>\n",
              "      <td>60.0</td>\n",
              "      <td>-4.600000</td>\n",
              "      <td>6.200000</td>\n",
              "      <td>70.000000</td>\n",
              "      <td>60</td>\n",
              "      <td>20</td>\n",
              "    </tr>\n",
              "    <tr>\n",
              "      <th>2018-03-01 21:00:00</th>\n",
              "      <td>-3.900000</td>\n",
              "      <td>1023.100000</td>\n",
              "      <td>8.8</td>\n",
              "      <td>80.000000</td>\n",
              "      <td>-3.5</td>\n",
              "      <td>1021.700000</td>\n",
              "      <td>8.2</td>\n",
              "      <td>80.0</td>\n",
              "      <td>-5.000000</td>\n",
              "      <td>8.200000</td>\n",
              "      <td>80.000000</td>\n",
              "      <td>-5.200000</td>\n",
              "      <td>1019.200000</td>\n",
              "      <td>7.700000</td>\n",
              "      <td>60.0</td>\n",
              "      <td>-5.100000</td>\n",
              "      <td>5.100000</td>\n",
              "      <td>60.000000</td>\n",
              "      <td>60</td>\n",
              "      <td>21</td>\n",
              "    </tr>\n",
              "    <tr>\n",
              "      <th>2018-03-01 22:00:00</th>\n",
              "      <td>-3.800000</td>\n",
              "      <td>1022.900000</td>\n",
              "      <td>7.2</td>\n",
              "      <td>70.000000</td>\n",
              "      <td>-3.5</td>\n",
              "      <td>1021.200000</td>\n",
              "      <td>8.2</td>\n",
              "      <td>80.0</td>\n",
              "      <td>-5.000000</td>\n",
              "      <td>6.366667</td>\n",
              "      <td>66.666667</td>\n",
              "      <td>-5.000000</td>\n",
              "      <td>1018.700000</td>\n",
              "      <td>8.800000</td>\n",
              "      <td>60.0</td>\n",
              "      <td>-5.200000</td>\n",
              "      <td>5.100000</td>\n",
              "      <td>60.000000</td>\n",
              "      <td>60</td>\n",
              "      <td>22</td>\n",
              "    </tr>\n",
              "    <tr>\n",
              "      <th>2018-03-01 23:00:00</th>\n",
              "      <td>-4.200000</td>\n",
              "      <td>1022.500000</td>\n",
              "      <td>7.2</td>\n",
              "      <td>70.000000</td>\n",
              "      <td>-3.4</td>\n",
              "      <td>1021.000000</td>\n",
              "      <td>7.7</td>\n",
              "      <td>80.0</td>\n",
              "      <td>-5.333333</td>\n",
              "      <td>6.533333</td>\n",
              "      <td>60.000000</td>\n",
              "      <td>-4.700000</td>\n",
              "      <td>1018.300000</td>\n",
              "      <td>9.300000</td>\n",
              "      <td>60.0</td>\n",
              "      <td>-5.300000</td>\n",
              "      <td>4.100000</td>\n",
              "      <td>60.000000</td>\n",
              "      <td>60</td>\n",
              "      <td>23</td>\n",
              "    </tr>\n",
              "  </tbody>\n",
              "</table>\n",
              "<p>333109 rows × 20 columns</p>\n",
              "</div>"
            ],
            "text/plain": [
              "                      Aalborg                         ...    Roskilde Various     \n",
              "                         Temp     Pressure WindSpeed  ...     WindDir     Day Hour\n",
              "DateTime                                              ...                         \n",
              "1980-03-01 11:00:00  5.000000  1007.766667      10.2  ...  280.000000      61   11\n",
              "1980-03-01 12:00:00  5.000000  1008.000000      10.3  ...  280.000000      61   12\n",
              "1980-03-01 13:00:00  5.000000  1008.066667       9.7  ...  278.333333      61   13\n",
              "1980-03-01 14:00:00  4.333333  1008.133333      11.1  ...  270.000000      61   14\n",
              "1980-03-01 15:00:00  4.000000  1008.200000      11.3  ...  270.000000      61   15\n",
              "...                       ...          ...       ...  ...         ...     ...  ...\n",
              "2018-03-01 19:00:00 -4.400000  1024.200000       7.2  ...   60.000000      60   19\n",
              "2018-03-01 20:00:00 -4.300000  1023.700000       6.7  ...   70.000000      60   20\n",
              "2018-03-01 21:00:00 -3.900000  1023.100000       8.8  ...   60.000000      60   21\n",
              "2018-03-01 22:00:00 -3.800000  1022.900000       7.2  ...   60.000000      60   22\n",
              "2018-03-01 23:00:00 -4.200000  1022.500000       7.2  ...   60.000000      60   23\n",
              "\n",
              "[333109 rows x 20 columns]"
            ]
          },
          "metadata": {
            "tags": []
          },
          "execution_count": 297
        }
      ]
    },
    {
      "cell_type": "code",
      "metadata": {
        "id": "rVr0E6tiTKxB",
        "colab_type": "code",
        "colab": {}
      },
      "source": [
        "target_city = 'Odense'"
      ],
      "execution_count": 0,
      "outputs": []
    },
    {
      "cell_type": "code",
      "metadata": {
        "id": "d-y0aRN9TNuB",
        "colab_type": "code",
        "colab": {}
      },
      "source": [
        "target_names = ['Temp', 'Pressure']"
      ],
      "execution_count": 0,
      "outputs": []
    },
    {
      "cell_type": "code",
      "metadata": {
        "id": "aRQGPnDmTO7h",
        "colab_type": "code",
        "colab": {}
      },
      "source": [
        "shift_days = 1\n",
        "shift_steps = shift_days * 24  # Number of hours."
      ],
      "execution_count": 0,
      "outputs": []
    },
    {
      "cell_type": "code",
      "metadata": {
        "id": "Z1NHfUmPTQ8R",
        "colab_type": "code",
        "colab": {}
      },
      "source": [
        "df_targets = df[target_city][target_names].shift(-shift_steps)"
      ],
      "execution_count": 0,
      "outputs": []
    },
    {
      "cell_type": "code",
      "metadata": {
        "id": "IIiTh5XyTSs5",
        "colab_type": "code",
        "outputId": "924dc58c-80bf-464c-81ac-723b965d407d",
        "colab": {
          "base_uri": "https://localhost:8080/",
          "height": 948
        }
      },
      "source": [
        "df[target_city][target_names].head(shift_steps + 5)"
      ],
      "execution_count": 302,
      "outputs": [
        {
          "output_type": "execute_result",
          "data": {
            "text/html": [
              "<div>\n",
              "<style scoped>\n",
              "    .dataframe tbody tr th:only-of-type {\n",
              "        vertical-align: middle;\n",
              "    }\n",
              "\n",
              "    .dataframe tbody tr th {\n",
              "        vertical-align: top;\n",
              "    }\n",
              "\n",
              "    .dataframe thead th {\n",
              "        text-align: right;\n",
              "    }\n",
              "</style>\n",
              "<table border=\"1\" class=\"dataframe\">\n",
              "  <thead>\n",
              "    <tr style=\"text-align: right;\">\n",
              "      <th></th>\n",
              "      <th>Temp</th>\n",
              "      <th>Pressure</th>\n",
              "    </tr>\n",
              "    <tr>\n",
              "      <th>DateTime</th>\n",
              "      <th></th>\n",
              "      <th></th>\n",
              "    </tr>\n",
              "  </thead>\n",
              "  <tbody>\n",
              "    <tr>\n",
              "      <th>1980-03-01 11:00:00</th>\n",
              "      <td>6.142857</td>\n",
              "      <td>1011.066667</td>\n",
              "    </tr>\n",
              "    <tr>\n",
              "      <th>1980-03-01 12:00:00</th>\n",
              "      <td>7.000000</td>\n",
              "      <td>1011.200000</td>\n",
              "    </tr>\n",
              "    <tr>\n",
              "      <th>1980-03-01 13:00:00</th>\n",
              "      <td>7.000000</td>\n",
              "      <td>1011.300000</td>\n",
              "    </tr>\n",
              "    <tr>\n",
              "      <th>1980-03-01 14:00:00</th>\n",
              "      <td>6.857143</td>\n",
              "      <td>1011.400000</td>\n",
              "    </tr>\n",
              "    <tr>\n",
              "      <th>1980-03-01 15:00:00</th>\n",
              "      <td>6.000000</td>\n",
              "      <td>1011.500000</td>\n",
              "    </tr>\n",
              "    <tr>\n",
              "      <th>1980-03-01 16:00:00</th>\n",
              "      <td>4.909091</td>\n",
              "      <td>1011.688889</td>\n",
              "    </tr>\n",
              "    <tr>\n",
              "      <th>1980-03-01 17:00:00</th>\n",
              "      <td>3.953488</td>\n",
              "      <td>1011.877778</td>\n",
              "    </tr>\n",
              "    <tr>\n",
              "      <th>1980-03-01 18:00:00</th>\n",
              "      <td>3.674419</td>\n",
              "      <td>1012.066667</td>\n",
              "    </tr>\n",
              "    <tr>\n",
              "      <th>1980-03-01 19:00:00</th>\n",
              "      <td>3.395349</td>\n",
              "      <td>1012.255556</td>\n",
              "    </tr>\n",
              "    <tr>\n",
              "      <th>1980-03-01 20:00:00</th>\n",
              "      <td>3.116279</td>\n",
              "      <td>1012.444444</td>\n",
              "    </tr>\n",
              "    <tr>\n",
              "      <th>1980-03-01 21:00:00</th>\n",
              "      <td>2.837209</td>\n",
              "      <td>1012.633333</td>\n",
              "    </tr>\n",
              "    <tr>\n",
              "      <th>1980-03-01 22:00:00</th>\n",
              "      <td>2.558140</td>\n",
              "      <td>1012.822222</td>\n",
              "    </tr>\n",
              "    <tr>\n",
              "      <th>1980-03-01 23:00:00</th>\n",
              "      <td>2.279070</td>\n",
              "      <td>1013.011111</td>\n",
              "    </tr>\n",
              "    <tr>\n",
              "      <th>1980-03-02 00:00:00</th>\n",
              "      <td>2.000000</td>\n",
              "      <td>1013.200000</td>\n",
              "    </tr>\n",
              "    <tr>\n",
              "      <th>1980-03-02 01:00:00</th>\n",
              "      <td>2.076923</td>\n",
              "      <td>1012.366667</td>\n",
              "    </tr>\n",
              "    <tr>\n",
              "      <th>1980-03-02 02:00:00</th>\n",
              "      <td>2.538462</td>\n",
              "      <td>1011.533333</td>\n",
              "    </tr>\n",
              "    <tr>\n",
              "      <th>1980-03-02 03:00:00</th>\n",
              "      <td>3.000000</td>\n",
              "      <td>1010.700000</td>\n",
              "    </tr>\n",
              "    <tr>\n",
              "      <th>1980-03-02 04:00:00</th>\n",
              "      <td>3.000000</td>\n",
              "      <td>1010.100000</td>\n",
              "    </tr>\n",
              "    <tr>\n",
              "      <th>1980-03-02 05:00:00</th>\n",
              "      <td>2.916667</td>\n",
              "      <td>1009.500000</td>\n",
              "    </tr>\n",
              "    <tr>\n",
              "      <th>1980-03-02 06:00:00</th>\n",
              "      <td>2.416667</td>\n",
              "      <td>1008.900000</td>\n",
              "    </tr>\n",
              "    <tr>\n",
              "      <th>1980-03-02 07:00:00</th>\n",
              "      <td>2.000000</td>\n",
              "      <td>1008.300000</td>\n",
              "    </tr>\n",
              "    <tr>\n",
              "      <th>1980-03-02 08:00:00</th>\n",
              "      <td>2.142857</td>\n",
              "      <td>1007.700000</td>\n",
              "    </tr>\n",
              "    <tr>\n",
              "      <th>1980-03-02 09:00:00</th>\n",
              "      <td>3.000000</td>\n",
              "      <td>1007.100000</td>\n",
              "    </tr>\n",
              "    <tr>\n",
              "      <th>1980-03-02 10:00:00</th>\n",
              "      <td>2.833333</td>\n",
              "      <td>1006.466667</td>\n",
              "    </tr>\n",
              "    <tr>\n",
              "      <th>1980-03-02 11:00:00</th>\n",
              "      <td>2.000000</td>\n",
              "      <td>1005.833333</td>\n",
              "    </tr>\n",
              "    <tr>\n",
              "      <th>1980-03-02 12:00:00</th>\n",
              "      <td>2.000000</td>\n",
              "      <td>1005.200000</td>\n",
              "    </tr>\n",
              "    <tr>\n",
              "      <th>1980-03-02 13:00:00</th>\n",
              "      <td>0.166667</td>\n",
              "      <td>1004.766667</td>\n",
              "    </tr>\n",
              "    <tr>\n",
              "      <th>1980-03-02 14:00:00</th>\n",
              "      <td>1.000000</td>\n",
              "      <td>1004.333333</td>\n",
              "    </tr>\n",
              "    <tr>\n",
              "      <th>1980-03-02 15:00:00</th>\n",
              "      <td>1.000000</td>\n",
              "      <td>1003.900000</td>\n",
              "    </tr>\n",
              "  </tbody>\n",
              "</table>\n",
              "</div>"
            ],
            "text/plain": [
              "                         Temp     Pressure\n",
              "DateTime                                  \n",
              "1980-03-01 11:00:00  6.142857  1011.066667\n",
              "1980-03-01 12:00:00  7.000000  1011.200000\n",
              "1980-03-01 13:00:00  7.000000  1011.300000\n",
              "1980-03-01 14:00:00  6.857143  1011.400000\n",
              "1980-03-01 15:00:00  6.000000  1011.500000\n",
              "1980-03-01 16:00:00  4.909091  1011.688889\n",
              "1980-03-01 17:00:00  3.953488  1011.877778\n",
              "1980-03-01 18:00:00  3.674419  1012.066667\n",
              "1980-03-01 19:00:00  3.395349  1012.255556\n",
              "1980-03-01 20:00:00  3.116279  1012.444444\n",
              "1980-03-01 21:00:00  2.837209  1012.633333\n",
              "1980-03-01 22:00:00  2.558140  1012.822222\n",
              "1980-03-01 23:00:00  2.279070  1013.011111\n",
              "1980-03-02 00:00:00  2.000000  1013.200000\n",
              "1980-03-02 01:00:00  2.076923  1012.366667\n",
              "1980-03-02 02:00:00  2.538462  1011.533333\n",
              "1980-03-02 03:00:00  3.000000  1010.700000\n",
              "1980-03-02 04:00:00  3.000000  1010.100000\n",
              "1980-03-02 05:00:00  2.916667  1009.500000\n",
              "1980-03-02 06:00:00  2.416667  1008.900000\n",
              "1980-03-02 07:00:00  2.000000  1008.300000\n",
              "1980-03-02 08:00:00  2.142857  1007.700000\n",
              "1980-03-02 09:00:00  3.000000  1007.100000\n",
              "1980-03-02 10:00:00  2.833333  1006.466667\n",
              "1980-03-02 11:00:00  2.000000  1005.833333\n",
              "1980-03-02 12:00:00  2.000000  1005.200000\n",
              "1980-03-02 13:00:00  0.166667  1004.766667\n",
              "1980-03-02 14:00:00  1.000000  1004.333333\n",
              "1980-03-02 15:00:00  1.000000  1003.900000"
            ]
          },
          "metadata": {
            "tags": []
          },
          "execution_count": 302
        }
      ]
    },
    {
      "cell_type": "code",
      "metadata": {
        "id": "U7-4nnSNTUiR",
        "colab_type": "code",
        "outputId": "22411059-2c16-422c-c3d7-211d1143187e",
        "colab": {
          "base_uri": "https://localhost:8080/",
          "height": 35
        }
      },
      "source": [
        "\n",
        "df_targets.tail()\n",
        "df_targets.shape"
      ],
      "execution_count": 303,
      "outputs": [
        {
          "output_type": "execute_result",
          "data": {
            "text/plain": [
              "(333109, 2)"
            ]
          },
          "metadata": {
            "tags": []
          },
          "execution_count": 303
        }
      ]
    },
    {
      "cell_type": "code",
      "metadata": {
        "id": "XMupOVc-TYkx",
        "colab_type": "code",
        "outputId": "9c60d1b2-9c36-4c03-8f4c-cab9ece33484",
        "colab": {
          "base_uri": "https://localhost:8080/",
          "height": 108
        }
      },
      "source": [
        "#Coverting to numpy arrays\n",
        "\n",
        "x_data = df.values[0:-shift_steps]\n",
        "print(type(x_data))\n",
        "print(\"Shape:\", x_data.shape)\n",
        "\n",
        "y_data = df_targets.values[:-shift_steps]\n",
        "print(type(y_data))\n",
        "print(\"Shape:\", y_data.shape)\n",
        "\n",
        "num_data = len(x_data)\n",
        "num_data\n",
        "\n"
      ],
      "execution_count": 304,
      "outputs": [
        {
          "output_type": "stream",
          "text": [
            "<class 'numpy.ndarray'>\n",
            "Shape: (333085, 20)\n",
            "<class 'numpy.ndarray'>\n",
            "Shape: (333085, 2)\n"
          ],
          "name": "stdout"
        },
        {
          "output_type": "execute_result",
          "data": {
            "text/plain": [
              "333085"
            ]
          },
          "metadata": {
            "tags": []
          },
          "execution_count": 304
        }
      ]
    },
    {
      "cell_type": "code",
      "metadata": {
        "id": "wAOcd9YGTjZp",
        "colab_type": "code",
        "outputId": "72356b4f-5e99-4e56-f4fe-928774bc00e6",
        "colab": {
          "base_uri": "https://localhost:8080/",
          "height": 108
        }
      },
      "source": [
        "\n",
        "#Train test split\n",
        "train_split = 0.9\n",
        "num_train = int(train_split * num_data)\n",
        "print(num_train)\n",
        "\n",
        "#num_test = num_data - num_train\n",
        "#print(num_test)\n",
        "\n",
        "x_train = x_data[0:num_train]\n",
        "x_test = x_data[num_train:]\n",
        "print (\"X_lenghts\" , len(x_train) + len(x_test))\n",
        "\n",
        "y_train = y_data[0:num_train]\n",
        "y_test = y_data[num_train:]\n",
        "#len(y_train) + len(y_test)\n",
        "print (\"Y_lenghts\" , len(y_train) + len(y_test))\n",
        "\n",
        "num_x_signals = x_data.shape[1]\n",
        "print(num_x_signals)\n",
        "\n",
        "num_y_signals = y_data.shape[1]\n",
        "print(num_y_signals)"
      ],
      "execution_count": 305,
      "outputs": [
        {
          "output_type": "stream",
          "text": [
            "299776\n",
            "X_lenghts 333085\n",
            "Y_lenghts 333085\n",
            "20\n",
            "2\n"
          ],
          "name": "stdout"
        }
      ]
    },
    {
      "cell_type": "code",
      "metadata": {
        "id": "YICWVmRvTwl4",
        "colab_type": "code",
        "colab": {}
      },
      "source": [
        "##Data Scaling\n",
        "\n",
        "x_scaler = MinMaxScaler()\n",
        "\n",
        "x_train_scaled = x_scaler.fit_transform(x_train)\n",
        "x_test_scaled = x_scaler.transform(x_test)\n",
        "\n",
        "y_scaler = MinMaxScaler()\n",
        "\n",
        "y_train_scaled = y_scaler.fit_transform(y_train)\n",
        "y_test_scaled = y_scaler.transform(y_test)\n",
        "\n"
      ],
      "execution_count": 0,
      "outputs": []
    },
    {
      "cell_type": "code",
      "metadata": {
        "id": "dsSZisJpajZl",
        "colab_type": "code",
        "outputId": "ccaba08e-2333-44da-b9a4-62291387ab0b",
        "colab": {
          "base_uri": "https://localhost:8080/",
          "height": 54
        }
      },
      "source": [
        "\n",
        "\n",
        "print(x_train_scaled.shape)\n",
        "print(y_train_scaled.shape)"
      ],
      "execution_count": 307,
      "outputs": [
        {
          "output_type": "stream",
          "text": [
            "(299776, 20)\n",
            "(299776, 2)\n"
          ],
          "name": "stdout"
        }
      ]
    },
    {
      "cell_type": "code",
      "metadata": {
        "id": "QbbIDKgXUHUW",
        "colab_type": "code",
        "colab": {}
      },
      "source": [
        "## Data Generator\n",
        "\n",
        "\n",
        "def batch_generator(batch_size, sequence_length):\n",
        "    \"\"\"\n",
        "    #Generator function for creating random batches of training-data.\n",
        "    \"\"\"\n",
        "\n",
        "    # Infinite loop.\n",
        "    while True:\n",
        "        # Allocate a new array for the batch of input-signals.\n",
        "        x_shape = (batch_size, sequence_length, num_x_signals)\n",
        "        x_batch = np.zeros(shape=x_shape, dtype=np.float16)\n",
        "\n",
        "        # Allocate a new array for the batch of output-signals.\n",
        "        y_shape = (batch_size, sequence_length, num_y_signals)\n",
        "        y_batch = np.zeros(shape=y_shape, dtype=np.float16)\n",
        "\n",
        "        # Fill the batch with random sequences of data.\n",
        "        for i in range(batch_size):\n",
        "            # Get a random start-index.\n",
        "            # This points somewhere into the training-data.\n",
        "            idx = np.random.randint(num_train - sequence_length)\n",
        "            \n",
        "            # Copy the sequences of data starting at this index.\n",
        "            x_batch[i] = x_train_scaled[idx:idx+sequence_length]\n",
        "            y_batch[i] = y_train_scaled[idx:idx+sequence_length]\n",
        "        \n",
        "        yield (x_batch, y_batch)"
      ],
      "execution_count": 0,
      "outputs": []
    },
    {
      "cell_type": "code",
      "metadata": {
        "id": "cG60mcB5UdtN",
        "colab_type": "code",
        "outputId": "77f8c0d5-26b1-4ab2-bef4-fab120a5f369",
        "colab": {
          "base_uri": "https://localhost:8080/",
          "height": 54
        }
      },
      "source": [
        "\n",
        "batch_size = 256\n",
        "sequence_length = 24 * 7 * 8\n",
        "sequence_length\n",
        "generator = batch_generator(batch_size=batch_size,\n",
        "                            sequence_length=sequence_length)\n",
        "x_batch, y_batch = next(generator)\n",
        "\n",
        "print(x_batch.shape)\n",
        "print(y_batch.shape)"
      ],
      "execution_count": 309,
      "outputs": [
        {
          "output_type": "stream",
          "text": [
            "(256, 1344, 20)\n",
            "(256, 1344, 2)\n"
          ],
          "name": "stdout"
        }
      ]
    },
    {
      "cell_type": "code",
      "metadata": {
        "id": "1kyalK2jUlhl",
        "colab_type": "code",
        "colab": {}
      },
      "source": [
        "## We can plot one of the 20 input-signals as an example."
      ],
      "execution_count": 0,
      "outputs": []
    },
    {
      "cell_type": "code",
      "metadata": {
        "id": "zjmLICZhUpnq",
        "colab_type": "code",
        "outputId": "08b48a06-bf9f-454f-954f-b620822b85f5",
        "colab": {
          "base_uri": "https://localhost:8080/",
          "height": 283
        }
      },
      "source": [
        "\n",
        "batch = 0   # First sequence in the batch.\n",
        "signal = 0  # First signal from the 20 input-signals.\n",
        "seq = x_batch[batch, :, signal]\n",
        "plt.plot(seq)"
      ],
      "execution_count": 311,
      "outputs": [
        {
          "output_type": "execute_result",
          "data": {
            "text/plain": [
              "[<matplotlib.lines.Line2D at 0x7f7a74d0dba8>]"
            ]
          },
          "metadata": {
            "tags": []
          },
          "execution_count": 311
        },
        {
          "output_type": "display_data",
          "data": {
            "image/png": "[encoded data removed]",
            "text/plain": [
              "<Figure size 432x288 with 1 Axes>"
            ]
          },
          "metadata": {
            "tags": [],
            "needs_background": "light"
          }
        }
      ]
    },
    {
      "cell_type": "code",
      "metadata": {
        "id": "O1NkoXYQUsWM",
        "colab_type": "code",
        "colab": {}
      },
      "source": [
        "#seq = y_batch[batch, :, signal]\n",
        "#plt.plot(seq)"
      ],
      "execution_count": 0,
      "outputs": []
    },
    {
      "cell_type": "code",
      "metadata": {
        "id": "cqx8HK7gUvrM",
        "colab_type": "code",
        "colab": {}
      },
      "source": [
        "## Validation Set\n",
        "\n",
        "validation_data = (np.expand_dims(x_test_scaled, axis=0),\n",
        "                   np.expand_dims(y_test_scaled, axis=0))"
      ],
      "execution_count": 0,
      "outputs": []
    },
    {
      "cell_type": "code",
      "metadata": {
        "id": "VTOdMo6e8fsT",
        "colab_type": "code",
        "colab": {}
      },
      "source": [
        "dim_learning_rate = Real(low=1e-6, high=1e-2, prior='log-uniform',\n",
        "                         name='learning_rate')"
      ],
      "execution_count": 0,
      "outputs": []
    },
    {
      "cell_type": "code",
      "metadata": {
        "id": "9KH2QBPm8fzx",
        "colab_type": "code",
        "colab": {}
      },
      "source": [
        "dim_num_dense_layers = Integer(low=1, high=5, name='num_dense_layers')"
      ],
      "execution_count": 0,
      "outputs": []
    },
    {
      "cell_type": "code",
      "metadata": {
        "id": "soYOLVeD8f6R",
        "colab_type": "code",
        "colab": {}
      },
      "source": [
        "#dim_num_dense_nodes = Integer(low=1, high=512, name='num_dense_nodes')\n",
        "dim_num_dense_nodes = Integer(low=1, high=2, name='num_dense_nodes')"
      ],
      "execution_count": 0,
      "outputs": []
    },
    {
      "cell_type": "code",
      "metadata": {
        "id": "TLPaxQhg8gBc",
        "colab_type": "code",
        "colab": {}
      },
      "source": [
        "dim_activation = Categorical(categories=['relu', 'sigmoid'],\n",
        "                             name='activation')"
      ],
      "execution_count": 0,
      "outputs": []
    },
    {
      "cell_type": "code",
      "metadata": {
        "id": "LvIKdCp47fE7",
        "colab_type": "code",
        "colab": {}
      },
      "source": [
        "dimensions = [dim_learning_rate,\n",
        "              dim_num_dense_layers,\n",
        "              dim_num_dense_nodes,\n",
        "              dim_activation]\n",
        "\n",
        "#default_parameters = [1e-5, 1, 16, 'relu']\n",
        "default_parameters = [1e-5, 1, 2, 'relu']"
      ],
      "execution_count": 0,
      "outputs": []
    },
    {
      "cell_type": "code",
      "metadata": {
        "id": "j02AvxfW-O0S",
        "colab_type": "code",
        "colab": {}
      },
      "source": [
        "\n",
        "def log_dir_name(learning_rate, num_dense_layers,\n",
        "                 num_dense_nodes, activation):\n",
        "\n",
        "    # The dir-name for the TensorBoard log-dir.\n",
        "    s = \"./19_logs/lr_{0:.0e}_layers_{1}_nodes_{2}_{3}/\"\n",
        "\n",
        "    # Insert all the hyper-parameters in the dir-name.\n",
        "    log_dir = s.format(learning_rate,\n",
        "                       num_dense_layers,\n",
        "                       num_dense_nodes,\n",
        "                       activation)\n",
        "\n",
        "    return log_dir"
      ],
      "execution_count": 0,
      "outputs": []
    },
    {
      "cell_type": "code",
      "metadata": {
        "id": "TdMH5ncJ7uN8",
        "colab_type": "code",
        "colab": {}
      },
      "source": [
        "## Loss Function\n",
        "\n",
        "warmup_steps = 50\n",
        "\n",
        "def loss_mse_warmup(y_true, y_pred):\n",
        "    \"\"\"\n",
        "    #Calculate the Mean Squared Error between y_true and y_pred,\n",
        "    #but ignore the beginning \"warmup\" part of the sequences.\n",
        "    \n",
        "    #y_true is the desired output.\n",
        "    #y_pred is the model's output.\n",
        "    \"\"\"\n",
        "\n",
        "    # The shape of both input tensors are:\n",
        "    # [batch_size, sequence_length, num_y_signals].\n",
        "\n",
        "    # Ignore the \"warmup\" parts of the sequences\n",
        "    # by taking slices of the tensors.\n",
        "    y_true_slice = y_true[:, warmup_steps:, :]\n",
        "    y_pred_slice = y_pred[:, warmup_steps:, :]\n",
        "\n",
        "    # These sliced tensors both have this shape:\n",
        "    # [batch_size, sequence_length - warmup_steps, num_y_signals]\n",
        "\n",
        "    # Calculat the Mean Squared Error and use it as loss.\n",
        "    mse = mean(square(y_true_slice - y_pred_slice))\n",
        "    \n",
        "    return mse"
      ],
      "execution_count": 0,
      "outputs": []
    },
    {
      "cell_type": "code",
      "metadata": {
        "id": "UTpRXYgi5zv8",
        "colab_type": "code",
        "colab": {}
      },
      "source": [
        "from tensorflow.keras.layers import LSTM\n",
        "def create_model(learning_rate, num_dense_layers,num_dense_nodes, activation):\n",
        "   # Start construction of a Keras Sequential model.\n",
        "    model = Sequential()\n",
        "    print(\"Working 01\")\n",
        "\n",
        "    model.add(LSTM(units=512,\n",
        "              return_sequences=True,\n",
        "              input_shape=(None, num_x_signals,)))\n",
        "    print(\"Working 02\")\n",
        "    \n",
        "    #model.add(Dense(num_y_signals, activation='sigmoid'))\n",
        "    # The number of layers is a hyper-parameter we want to optimize.\n",
        "    for i in range(num_dense_layers):\n",
        "        # Name of the layer. This is not really necessary\n",
        "        # because Keras should give them unique names.\n",
        "        name = 'layer_dense_{0}'.format(i+1)\n",
        "\n",
        "        # Add the dense / fully-connected layer to the model.\n",
        "        # This has two hyper-parameters we want to optimize:\n",
        "        # The number of nodes and the activation function.\n",
        "        model.add(Dense(num_dense_nodes,\n",
        "                        activation=activation,\n",
        "                        name=name))\n",
        "    print(\"Working 03\")\n",
        "\n",
        "    # Last fully-connected / dense layer with softmax-activation\n",
        "    # for use in classification.\n",
        "    #model.add(Dense(num_classes, activation='softmax'))\n",
        "    \n",
        "    # Use the Adam method for training the network.\n",
        "    # We want to find the best learning-rate for the Adam method.\n",
        "    print(\"Working 04\")\n",
        "    optimizer = RMSprop(lr=learning_rate)\n",
        "    \n",
        "    # In Keras we need to compile the model so it can be trained.\n",
        "    print(\"Working 05\")\n",
        "    model.compile(optimizer=optimizer,\n",
        "                  loss= loss_mse_warmup,\n",
        "                  #loss = 'mean_squared_error',\n",
        "                  metrics=['accuracy'])\n",
        "    print(\"Working 06\")\n",
        "    return model\n",
        "  \n",
        "\n",
        "\n",
        "    "
      ],
      "execution_count": 0,
      "outputs": []
    },
    {
      "cell_type": "code",
      "metadata": {
        "id": "xRoZi3UuhJkU",
        "colab_type": "code",
        "colab": {}
      },
      "source": [
        "from tensorflow.keras import backend as K\n",
        "best_accuracy = 0.0\n",
        "path_best_model = '19_best_model.h5'\n"
      ],
      "execution_count": 0,
      "outputs": []
    },
    {
      "cell_type": "code",
      "metadata": {
        "id": "jA5DwqyW7hOo",
        "colab_type": "code",
        "colab": {}
      },
      "source": [
        "@use_named_args(dimensions=dimensions)\n",
        "def fitness(learning_rate, num_dense_layers,\n",
        "            num_dense_nodes, activation):\n",
        "    \"\"\"\n",
        "    Hyper-parameters:\n",
        "    learning_rate:     Learning-rate for the optimizer.\n",
        "    num_dense_layers:  Number of dense layers.\n",
        "    num_dense_nodes:   Number of nodes in each dense layer.\n",
        "    activation:        Activation function for all layers.\n",
        "    \"\"\"\n",
        "\n",
        "    # Print the hyper-parameters.\n",
        "    print('learning rate: {0:.1e}'.format(learning_rate))\n",
        "    print('num_dense_layers:', num_dense_layers)\n",
        "    print('num_dense_nodes:', num_dense_nodes)\n",
        "    print('activation:', activation)\n",
        "    print()\n",
        "    \n",
        "    # Create the neural network with these hyper-parameters.\n",
        "    model = create_model(learning_rate=learning_rate,\n",
        "                         num_dense_layers=num_dense_layers,\n",
        "                         num_dense_nodes=num_dense_nodes,\n",
        "                         activation=activation)\n",
        "\n",
        "    # Dir-name for the TensorBoard log-files.\n",
        "    log_dir = log_dir_name(learning_rate, num_dense_layers,\n",
        "                           num_dense_nodes, activation)\n",
        "    \n",
        "    # Create a callback-function for Keras which will be\n",
        "    # run after each epoch has ended during training.\n",
        "    # This saves the log-files for TensorBoard.\n",
        "    # Note that there are complications when histogram_freq=1.\n",
        "    # It might give strange errors and it also does not properly\n",
        "    # support Keras data-generators for the validation-set.\n",
        "    callback_log = TensorBoard(\n",
        "        log_dir=log_dir,\n",
        "        histogram_freq=0,\n",
        "        write_graph=True,\n",
        "        write_grads=False,\n",
        "        write_images=False)\n",
        "   \n",
        " \n",
        "    # Use Keras to train the model.\n",
        "    history = model.fit(x=generator,\n",
        "                        epochs=3,\n",
        "                        steps_per_epoch=100,\n",
        "                        #batch_size=128,\n",
        "                        validation_data=validation_data,\n",
        "                        callbacks=[callback_log])\n",
        "\n",
        "    # Get the classification accuracy on the validation-set\n",
        "    # after the last training-epoch.\n",
        "    accuracy = history.history['val_accuracy'][-1]\n",
        "\n",
        "    # Print the classification accuracy.\n",
        "    print()\n",
        "    print(\"Accuracy: {0:.2%}\".format(accuracy))\n",
        "    print()\n",
        "\n",
        "    # Save the model if it improves on the best-found performance.\n",
        "    # We use the global keyword so we update the variable outside\n",
        "    # of this function.\n",
        "    global best_accuracy\n",
        "\n",
        "    # If the classification accuracy of the saved model is improved ...\n",
        "    if accuracy > best_accuracy:\n",
        "        # Save the new model to harddisk.\n",
        "        model.save(path_best_model)\n",
        "        \n",
        "        # Update the classification accuracy.\n",
        "        best_accuracy = accuracy\n",
        "\n",
        "    # Delete the Keras model with these hyper-parameters from memory.\n",
        "    del model\n",
        "    \n",
        "    # Clear the Keras session, otherwise it will keep adding new\n",
        "    # models to the same TensorFlow graph each time we create\n",
        "    # a model with a different set of hyper-parameters.\n",
        "    K.clear_session()\n",
        "    \n",
        "    # NOTE: Scikit-optimize does minimization so it tries to\n",
        "    # find a set of hyper-parameters with the LOWEST fitness-value.\n",
        "    # Because we are interested in the HIGHEST classification\n",
        "    # accuracy, we need to negate this number so it can be minimized.\n",
        "    return -accuracy"
      ],
      "execution_count": 0,
      "outputs": []
    },
    {
      "cell_type": "code",
      "metadata": {
        "id": "OQkfG3daUv4M",
        "colab_type": "code",
        "colab": {}
      },
      "source": [
        "#Test Run\n",
        "#fitness(x=default_parameters)"
      ],
      "execution_count": 0,
      "outputs": []
    },
    {
      "cell_type": "code",
      "metadata": {
        "id": "ZbKCHWtFVKQt",
        "colab_type": "code",
        "outputId": "28b0b8a1-671f-4b33-b8d2-7f35b2b56a8d",
        "colab": {
          "base_uri": "https://localhost:8080/",
          "height": 1000
        }
      },
      "source": [
        "%%time\n",
        "search_result = gp_minimize(func=fitness,\n",
        "                            dimensions=dimensions,\n",
        "                            acq_func='EI', # Expected Improvement.\n",
        "                            n_calls=40,\n",
        "                            x0=default_parameters)"
      ],
      "execution_count": 325,
      "outputs": [
        {
          "output_type": "stream",
          "text": [
            "learning rate: 1.0e-05\n",
            "num_dense_layers: 1\n",
            "num_dense_nodes: 2\n",
            "activation: relu\n",
            "\n",
            "Working 01\n",
            "Working 02\n",
            "Working 03\n",
            "Working 04\n",
            "Working 05\n",
            "Working 06\n",
            "Epoch 1/3\n",
            "100/100 [==============================] - 51s 515ms/step - loss: 0.1256 - accuracy: 0.8764 - val_loss: 0.1061 - val_accuracy: 0.9005\n",
            "Epoch 2/3\n",
            "100/100 [==============================] - 51s 509ms/step - loss: 0.1016 - accuracy: 0.8780 - val_loss: 0.1051 - val_accuracy: 0.9005\n",
            "Epoch 3/3\n",
            "100/100 [==============================] - 51s 510ms/step - loss: 0.1013 - accuracy: 0.8782 - val_loss: 0.1050 - val_accuracy: 0.9005\n",
            "\n",
            "Accuracy: 90.05%\n",
            "\n",
            "learning rate: 7.8e-03\n",
            "num_dense_layers: 2\n",
            "num_dense_nodes: 2\n",
            "activation: sigmoid\n",
            "\n",
            "Working 01\n",
            "Working 02\n",
            "Working 03\n",
            "Working 04\n",
            "Working 05\n",
            "Working 06\n",
            "Epoch 1/3\n",
            "100/100 [==============================] - 52s 519ms/step - loss: 0.0138 - accuracy: 0.8661 - val_loss: 0.0108 - val_accuracy: 0.9005\n",
            "Epoch 2/3\n",
            "100/100 [==============================] - 51s 513ms/step - loss: 0.0123 - accuracy: 0.8783 - val_loss: 0.0108 - val_accuracy: 0.9005\n",
            "Epoch 3/3\n",
            "100/100 [==============================] - 51s 514ms/step - loss: 0.0123 - accuracy: 0.8772 - val_loss: 0.0108 - val_accuracy: 0.9005\n",
            "\n",
            "Accuracy: 90.05%\n",
            "\n",
            "learning rate: 8.0e-05\n",
            "num_dense_layers: 4\n",
            "num_dense_nodes: 1\n",
            "activation: sigmoid\n",
            "\n",
            "Working 01\n",
            "Working 02\n",
            "Working 03\n",
            "Working 04\n",
            "Working 05\n",
            "Working 06\n",
            "Epoch 1/3\n",
            "100/100 [==============================] - 52s 518ms/step - loss: 0.0221 - accuracy: 5.2025e-06 - val_loss: 0.0211 - val_accuracy: 0.0000e+00\n",
            "Epoch 2/3\n",
            "100/100 [==============================] - 51s 511ms/step - loss: 0.0217 - accuracy: 5.3188e-06 - val_loss: 0.0208 - val_accuracy: 0.0000e+00\n",
            "Epoch 3/3\n",
            "100/100 [==============================] - 51s 510ms/step - loss: 0.0216 - accuracy: 4.9264e-06 - val_loss: 0.0205 - val_accuracy: 0.0000e+00\n",
            "\n",
            "Accuracy: 0.00%\n",
            "\n",
            "learning rate: 6.0e-04\n",
            "num_dense_layers: 1\n",
            "num_dense_nodes: 2\n",
            "activation: sigmoid\n",
            "\n",
            "Working 01\n",
            "Working 02\n",
            "Working 03\n",
            "Working 04\n",
            "Working 05\n",
            "Working 06\n",
            "Epoch 1/3\n",
            "100/100 [==============================] - 52s 518ms/step - loss: 0.0091 - accuracy: 0.8715 - val_loss: 0.0046 - val_accuracy: 0.9099\n",
            "Epoch 2/3\n",
            "100/100 [==============================] - 51s 509ms/step - loss: 0.0057 - accuracy: 0.8873 - val_loss: 0.0047 - val_accuracy: 0.9009\n",
            "Epoch 3/3\n",
            "100/100 [==============================] - 51s 511ms/step - loss: 0.0050 - accuracy: 0.8886 - val_loss: 0.0042 - val_accuracy: 0.8956\n",
            "\n",
            "Accuracy: 89.56%\n",
            "\n",
            "learning rate: 4.9e-04\n",
            "num_dense_layers: 4\n",
            "num_dense_nodes: 1\n",
            "activation: sigmoid\n",
            "\n",
            "Working 01\n",
            "Working 02\n",
            "Working 03\n",
            "Working 04\n",
            "Working 05\n",
            "Working 06\n",
            "Epoch 1/3\n",
            "100/100 [==============================] - 52s 518ms/step - loss: 0.0255 - accuracy: 5.2897e-06 - val_loss: 0.0235 - val_accuracy: 0.0000e+00\n",
            "Epoch 2/3\n",
            "100/100 [==============================] - 51s 511ms/step - loss: 0.0227 - accuracy: 4.1271e-06 - val_loss: 0.0209 - val_accuracy: 0.0000e+00\n",
            "Epoch 3/3\n",
            "100/100 [==============================] - 51s 511ms/step - loss: 0.0209 - accuracy: 5.2752e-06 - val_loss: 0.0192 - val_accuracy: 0.0000e+00\n",
            "\n",
            "Accuracy: 0.00%\n",
            "\n",
            "learning rate: 2.9e-05\n",
            "num_dense_layers: 3\n",
            "num_dense_nodes: 1\n",
            "activation: sigmoid\n",
            "\n",
            "Working 01\n",
            "Working 02\n",
            "Working 03\n",
            "Working 04\n",
            "Working 05\n",
            "Working 06\n",
            "Epoch 1/3\n",
            "100/100 [==============================] - 52s 518ms/step - loss: 0.0202 - accuracy: 5.6966e-06 - val_loss: 0.0190 - val_accuracy: 0.0000e+00\n",
            "Epoch 2/3\n",
            "100/100 [==============================] - 51s 511ms/step - loss: 0.0203 - accuracy: 4.8102e-06 - val_loss: 0.0190 - val_accuracy: 0.0000e+00\n",
            "Epoch 3/3\n",
            "100/100 [==============================] - 51s 512ms/step - loss: 0.0203 - accuracy: 4.7956e-06 - val_loss: 0.0189 - val_accuracy: 0.0000e+00\n",
            "\n",
            "Accuracy: 0.00%\n",
            "\n",
            "learning rate: 1.5e-05\n",
            "num_dense_layers: 4\n",
            "num_dense_nodes: 1\n",
            "activation: sigmoid\n",
            "\n",
            "Working 01\n",
            "Working 02\n",
            "Working 03\n",
            "Working 04\n",
            "Working 05\n",
            "Working 06\n",
            "Epoch 1/3\n",
            "100/100 [==============================] - 52s 519ms/step - loss: 0.0423 - accuracy: 4.9119e-06 - val_loss: 0.0428 - val_accuracy: 0.0000e+00\n",
            "Epoch 2/3\n",
            "100/100 [==============================] - 51s 510ms/step - loss: 0.0416 - accuracy: 5.1008e-06 - val_loss: 0.0426 - val_accuracy: 0.0000e+00\n",
            "Epoch 3/3\n",
            "100/100 [==============================] - 51s 510ms/step - loss: 0.0413 - accuracy: 5.5222e-06 - val_loss: 0.0423 - val_accuracy: 0.0000e+00\n",
            "\n",
            "Accuracy: 0.00%\n",
            "\n",
            "learning rate: 4.2e-03\n",
            "num_dense_layers: 3\n",
            "num_dense_nodes: 2\n",
            "activation: relu\n",
            "\n",
            "Working 01\n",
            "Working 02\n",
            "Working 03\n",
            "Working 04\n",
            "Working 05\n",
            "Working 06\n",
            "Epoch 1/3\n",
            "100/100 [==============================] - 53s 525ms/step - loss: 1.2851 - accuracy: 0.1446 - val_loss: 0.2971 - val_accuracy: 0.0996\n",
            "Epoch 2/3\n",
            "100/100 [==============================] - 52s 519ms/step - loss: 0.2886 - accuracy: 0.1224 - val_loss: 0.2971 - val_accuracy: 0.0996\n",
            "Epoch 3/3\n",
            "100/100 [==============================] - 52s 520ms/step - loss: 0.2891 - accuracy: 0.1228 - val_loss: 0.2971 - val_accuracy: 0.0996\n",
            "\n",
            "Accuracy: 9.96%\n",
            "\n",
            "learning rate: 6.0e-05\n",
            "num_dense_layers: 5\n",
            "num_dense_nodes: 2\n",
            "activation: sigmoid\n",
            "\n",
            "Working 01\n",
            "Working 02\n",
            "Working 03\n",
            "Working 04\n",
            "Working 05\n",
            "Working 06\n",
            "Epoch 1/3\n",
            "100/100 [==============================] - 54s 541ms/step - loss: 0.0132 - accuracy: 0.8777 - val_loss: 0.0114 - val_accuracy: 0.9005\n",
            "Epoch 2/3\n",
            "100/100 [==============================] - 53s 532ms/step - loss: 0.0130 - accuracy: 0.8785 - val_loss: 0.0112 - val_accuracy: 0.9005\n",
            "Epoch 3/3\n",
            "100/100 [==============================] - 53s 530ms/step - loss: 0.0129 - accuracy: 0.8783 - val_loss: 0.0111 - val_accuracy: 0.9005\n",
            "\n",
            "Accuracy: 90.05%\n",
            "\n",
            "learning rate: 1.7e-06\n",
            "num_dense_layers: 1\n",
            "num_dense_nodes: 1\n",
            "activation: sigmoid\n",
            "\n",
            "Working 01\n",
            "Working 02\n",
            "Working 03\n",
            "Working 04\n",
            "Working 05\n",
            "Working 06\n",
            "Epoch 1/3\n",
            "100/100 [==============================] - 52s 515ms/step - loss: 0.0194 - accuracy: 3.5604e-06 - val_loss: 0.0174 - val_accuracy: 0.0000e+00\n",
            "Epoch 2/3\n",
            "100/100 [==============================] - 51s 510ms/step - loss: 0.0191 - accuracy: 3.0082e-06 - val_loss: 0.0171 - val_accuracy: 0.0000e+00\n",
            "Epoch 3/3\n",
            "100/100 [==============================] - 52s 516ms/step - loss: 0.0188 - accuracy: 3.6185e-06 - val_loss: 0.0169 - val_accuracy: 0.0000e+00\n",
            "\n",
            "Accuracy: 0.00%\n",
            "\n",
            "learning rate: 1.8e-06\n",
            "num_dense_layers: 2\n",
            "num_dense_nodes: 1\n",
            "activation: relu\n",
            "\n",
            "Working 01\n",
            "Working 02\n",
            "Working 03\n",
            "Working 04\n",
            "Working 05\n",
            "Working 06\n",
            "Epoch 1/3\n",
            "100/100 [==============================] - 53s 527ms/step - loss: 0.1887 - accuracy: 5.8855e-06 - val_loss: 0.0704 - val_accuracy: 0.0000e+00\n",
            "Epoch 2/3\n",
            "100/100 [==============================] - 52s 519ms/step - loss: 0.0320 - accuracy: 5.3624e-06 - val_loss: 0.0171 - val_accuracy: 0.0000e+00\n",
            "Epoch 3/3\n",
            "100/100 [==============================] - 52s 519ms/step - loss: 0.0177 - accuracy: 6.0018e-06 - val_loss: 0.0156 - val_accuracy: 0.0000e+00\n",
            "\n",
            "Accuracy: 0.00%\n",
            "\n",
            "learning rate: 1.0e-06\n",
            "num_dense_layers: 1\n",
            "num_dense_nodes: 2\n",
            "activation: relu\n",
            "\n",
            "Working 01\n",
            "Working 02\n",
            "Working 03\n",
            "Working 04\n",
            "Working 05\n",
            "Working 06\n",
            "Epoch 1/3\n",
            "100/100 [==============================] - 53s 525ms/step - loss: 0.1979 - accuracy: 0.8771 - val_loss: 0.1778 - val_accuracy: 0.9005\n",
            "Epoch 2/3\n",
            "100/100 [==============================] - 52s 518ms/step - loss: 0.1542 - accuracy: 0.8785 - val_loss: 0.1409 - val_accuracy: 0.9005\n",
            "Epoch 3/3\n",
            "100/100 [==============================] - 51s 513ms/step - loss: 0.1255 - accuracy: 0.8788 - val_loss: 0.1191 - val_accuracy: 0.9005\n",
            "\n",
            "Accuracy: 90.05%\n",
            "\n",
            "learning rate: 2.0e-06\n",
            "num_dense_layers: 2\n",
            "num_dense_nodes: 2\n",
            "activation: relu\n",
            "\n",
            "Working 01\n",
            "Working 02\n",
            "Working 03\n",
            "Working 04\n",
            "Working 05\n",
            "Working 06\n",
            "Epoch 1/3\n",
            "100/100 [==============================] - 52s 518ms/step - loss: 0.2888 - accuracy: 0.1211 - val_loss: 0.2971 - val_accuracy: 0.0995\n",
            "Epoch 2/3\n",
            "100/100 [==============================] - 51s 514ms/step - loss: 0.2888 - accuracy: 0.1226 - val_loss: 0.2971 - val_accuracy: 0.0995\n",
            "Epoch 3/3\n",
            "100/100 [==============================] - 51s 512ms/step - loss: 0.2887 - accuracy: 0.1210 - val_loss: 0.2971 - val_accuracy: 0.0995\n",
            "\n",
            "Accuracy: 9.95%\n",
            "\n",
            "learning rate: 4.4e-05\n",
            "num_dense_layers: 5\n",
            "num_dense_nodes: 2\n",
            "activation: relu\n",
            "\n",
            "Working 01\n",
            "Working 02\n",
            "Working 03\n",
            "Working 04\n",
            "Working 05\n",
            "Working 06\n",
            "Epoch 1/3\n",
            "100/100 [==============================] - 54s 541ms/step - loss: 0.2886 - accuracy: 0.1217 - val_loss: 0.2971 - val_accuracy: 0.0995\n",
            "Epoch 2/3\n",
            "100/100 [==============================] - 53s 534ms/step - loss: 0.2884 - accuracy: 0.1211 - val_loss: 0.2971 - val_accuracy: 0.0995\n",
            "Epoch 3/3\n",
            "100/100 [==============================] - 53s 532ms/step - loss: 0.2891 - accuracy: 0.1224 - val_loss: 0.2971 - val_accuracy: 0.0995\n",
            "\n",
            "Accuracy: 9.95%\n",
            "\n",
            "learning rate: 4.4e-04\n",
            "num_dense_layers: 4\n",
            "num_dense_nodes: 2\n",
            "activation: sigmoid\n",
            "\n",
            "Working 01\n",
            "Working 02\n",
            "Working 03\n",
            "Working 04\n",
            "Working 05\n",
            "Working 06\n",
            "Epoch 1/3\n",
            "100/100 [==============================] - 54s 538ms/step - loss: 0.0781 - accuracy: 0.1213 - val_loss: 0.0696 - val_accuracy: 0.0995\n",
            "Epoch 2/3\n",
            "100/100 [==============================] - 53s 529ms/step - loss: 0.0649 - accuracy: 0.1227 - val_loss: 0.0574 - val_accuracy: 0.0995\n",
            "Epoch 3/3\n",
            "100/100 [==============================] - 53s 526ms/step - loss: 0.0533 - accuracy: 0.1217 - val_loss: 0.0468 - val_accuracy: 0.0995\n",
            "\n",
            "Accuracy: 9.95%\n",
            "\n",
            "learning rate: 9.1e-03\n",
            "num_dense_layers: 5\n",
            "num_dense_nodes: 1\n",
            "activation: relu\n",
            "\n",
            "Working 01\n",
            "Working 02\n",
            "Working 03\n",
            "Working 04\n",
            "Working 05\n",
            "Working 06\n",
            "Epoch 1/3\n",
            "100/100 [==============================] - 52s 517ms/step - loss: 0.2884 - accuracy: 5.1299e-06 - val_loss: 0.2971 - val_accuracy: 0.0000e+00\n",
            "Epoch 2/3\n",
            "100/100 [==============================] - 51s 510ms/step - loss: 0.2889 - accuracy: 4.5486e-06 - val_loss: 0.2971 - val_accuracy: 0.0000e+00\n",
            "Epoch 3/3\n",
            "100/100 [==============================] - 51s 509ms/step - loss: 0.2892 - accuracy: 4.8537e-06 - val_loss: 0.2971 - val_accuracy: 0.0000e+00\n",
            "\n",
            "Accuracy: 0.00%\n",
            "\n",
            "learning rate: 8.7e-03\n",
            "num_dense_layers: 2\n",
            "num_dense_nodes: 2\n",
            "activation: sigmoid\n",
            "\n",
            "Working 01\n",
            "Working 02\n",
            "Working 03\n",
            "Working 04\n",
            "Working 05\n",
            "Working 06\n",
            "Epoch 1/3\n",
            "100/100 [==============================] - 52s 521ms/step - loss: 0.0142 - accuracy: 0.8405 - val_loss: 0.0139 - val_accuracy: 0.9005\n",
            "Epoch 2/3\n",
            "100/100 [==============================] - 51s 512ms/step - loss: 0.0123 - accuracy: 0.8786 - val_loss: 0.0108 - val_accuracy: 0.9005\n",
            "Epoch 3/3\n",
            "100/100 [==============================] - 51s 512ms/step - loss: 0.0123 - accuracy: 0.8776 - val_loss: 0.0280 - val_accuracy: 0.0996\n",
            "\n",
            "Accuracy: 9.96%\n",
            "\n",
            "learning rate: 9.8e-03\n",
            "num_dense_layers: 1\n",
            "num_dense_nodes: 2\n",
            "activation: sigmoid\n",
            "\n",
            "Working 01\n",
            "Working 02\n",
            "Working 03\n",
            "Working 04\n",
            "Working 05\n",
            "Working 06\n",
            "Epoch 1/3\n",
            "100/100 [==============================] - 51s 514ms/step - loss: 0.1394 - accuracy: 0.8779 - val_loss: 0.1439 - val_accuracy: 0.9005\n",
            "Epoch 2/3\n",
            "100/100 [==============================] - 51s 507ms/step - loss: 0.1163 - accuracy: 0.8776 - val_loss: 0.0949 - val_accuracy: 0.9005\n",
            "Epoch 3/3\n",
            "100/100 [==============================] - 51s 508ms/step - loss: 0.1163 - accuracy: 0.8783 - val_loss: 0.0898 - val_accuracy: 0.9005\n",
            "\n",
            "Accuracy: 90.05%\n",
            "\n",
            "learning rate: 1.0e-02\n",
            "num_dense_layers: 1\n",
            "num_dense_nodes: 2\n",
            "activation: sigmoid\n",
            "\n",
            "Working 01\n",
            "Working 02\n",
            "Working 03\n",
            "Working 04\n",
            "Working 05\n",
            "Working 06\n",
            "Epoch 1/3\n",
            "100/100 [==============================] - 51s 514ms/step - loss: 0.1026 - accuracy: 0.8310 - val_loss: 0.0150 - val_accuracy: 0.9005\n",
            "Epoch 2/3\n",
            "100/100 [==============================] - 51s 507ms/step - loss: 0.0475 - accuracy: 0.7655 - val_loss: 0.0558 - val_accuracy: 0.9005\n",
            "Epoch 3/3\n",
            "100/100 [==============================] - 51s 508ms/step - loss: 0.0469 - accuracy: 0.7795 - val_loss: 0.0559 - val_accuracy: 0.9005\n",
            "\n",
            "Accuracy: 90.05%\n",
            "\n",
            "learning rate: 9.9e-03\n",
            "num_dense_layers: 1\n",
            "num_dense_nodes: 2\n",
            "activation: sigmoid\n",
            "\n",
            "Working 01\n",
            "Working 02\n",
            "Working 03\n",
            "Working 04\n",
            "Working 05\n",
            "Working 06\n",
            "Epoch 1/3\n",
            "100/100 [==============================] - 51s 514ms/step - loss: 0.1238 - accuracy: 0.8059 - val_loss: 0.1060 - val_accuracy: 0.9005\n",
            "Epoch 2/3\n",
            "100/100 [==============================] - 51s 507ms/step - loss: 0.0493 - accuracy: 0.7412 - val_loss: 0.0560 - val_accuracy: 0.9005\n",
            "Epoch 3/3\n",
            "100/100 [==============================] - 51s 508ms/step - loss: 0.0488 - accuracy: 0.7644 - val_loss: 0.0343 - val_accuracy: 0.0996\n",
            "\n",
            "Accuracy: 9.96%\n",
            "\n",
            "learning rate: 1.0e-06\n",
            "num_dense_layers: 1\n",
            "num_dense_nodes: 2\n",
            "activation: relu\n",
            "\n",
            "Working 01\n",
            "Working 02\n",
            "Working 03\n",
            "Working 04\n",
            "Working 05\n",
            "Working 06\n",
            "Epoch 1/3\n",
            "100/100 [==============================] - 52s 517ms/step - loss: 0.1906 - accuracy: 0.8353 - val_loss: 0.1627 - val_accuracy: 0.8886\n",
            "Epoch 2/3\n",
            "100/100 [==============================] - 51s 510ms/step - loss: 0.1312 - accuracy: 0.8683 - val_loss: 0.1078 - val_accuracy: 0.8988\n",
            "Epoch 3/3\n",
            "100/100 [==============================] - 51s 511ms/step - loss: 0.0831 - accuracy: 0.8760 - val_loss: 0.0642 - val_accuracy: 0.9004\n",
            "\n",
            "Accuracy: 90.04%\n",
            "\n",
            "learning rate: 1.0e-06\n",
            "num_dense_layers: 1\n",
            "num_dense_nodes: 2\n",
            "activation: relu\n",
            "\n",
            "Working 01\n"
          ],
          "name": "stdout"
        },
        {
          "output_type": "stream",
          "text": [
            "/usr/local/lib/python3.6/dist-packages/skopt/optimizer/optimizer.py:409: UserWarning: The objective has been evaluated at this point before.\n",
            "  warnings.warn(\"The objective has been evaluated \"\n"
          ],
          "name": "stderr"
        },
        {
          "output_type": "stream",
          "text": [
            "Working 02\n",
            "Working 03\n",
            "Working 04\n",
            "Working 05\n",
            "Working 06\n",
            "Epoch 1/3\n",
            "100/100 [==============================] - 52s 516ms/step - loss: 0.2345 - accuracy: 0.8678 - val_loss: 0.2126 - val_accuracy: 0.9005\n",
            "Epoch 2/3\n",
            "100/100 [==============================] - 51s 511ms/step - loss: 0.1832 - accuracy: 0.8777 - val_loss: 0.1670 - val_accuracy: 0.9005\n",
            "Epoch 3/3\n",
            "100/100 [==============================] - 51s 510ms/step - loss: 0.1450 - accuracy: 0.8773 - val_loss: 0.1343 - val_accuracy: 0.9005\n",
            "\n",
            "Accuracy: 90.05%\n",
            "\n",
            "learning rate: 1.1e-06\n",
            "num_dense_layers: 1\n",
            "num_dense_nodes: 2\n",
            "activation: relu\n",
            "\n",
            "Working 01\n",
            "Working 02\n",
            "Working 03\n",
            "Working 04\n",
            "Working 05\n",
            "Working 06\n",
            "Epoch 1/3\n",
            "100/100 [==============================] - 52s 516ms/step - loss: 0.2508 - accuracy: 0.1221 - val_loss: 0.2377 - val_accuracy: 0.0995\n",
            "Epoch 2/3\n",
            "100/100 [==============================] - 51s 509ms/step - loss: 0.2175 - accuracy: 0.1231 - val_loss: 0.2112 - val_accuracy: 0.0995\n",
            "Epoch 3/3\n",
            "100/100 [==============================] - 51s 509ms/step - loss: 0.1996 - accuracy: 0.1215 - val_loss: 0.1993 - val_accuracy: 0.0995\n",
            "\n",
            "Accuracy: 9.95%\n",
            "\n",
            "learning rate: 9.2e-03\n",
            "num_dense_layers: 1\n",
            "num_dense_nodes: 2\n",
            "activation: sigmoid\n",
            "\n",
            "Working 01\n",
            "Working 02\n",
            "Working 03\n",
            "Working 04\n",
            "Working 05\n",
            "Working 06\n",
            "Epoch 1/3\n",
            "100/100 [==============================] - 51s 514ms/step - loss: 0.0965 - accuracy: 0.8244 - val_loss: 0.0273 - val_accuracy: 0.9005\n",
            "Epoch 2/3\n",
            "100/100 [==============================] - 51s 506ms/step - loss: 0.0447 - accuracy: 0.6967 - val_loss: 0.0266 - val_accuracy: 0.0996\n",
            "Epoch 3/3\n",
            "100/100 [==============================] - 51s 508ms/step - loss: 0.0441 - accuracy: 0.7275 - val_loss: 0.0356 - val_accuracy: 0.9005\n",
            "\n",
            "Accuracy: 90.05%\n",
            "\n",
            "learning rate: 9.9e-03\n",
            "num_dense_layers: 1\n",
            "num_dense_nodes: 2\n",
            "activation: sigmoid\n",
            "\n",
            "Working 01\n",
            "Working 02\n",
            "Working 03\n",
            "Working 04\n",
            "Working 05\n",
            "Working 06\n",
            "Epoch 1/3\n",
            "100/100 [==============================] - 51s 514ms/step - loss: 0.1166 - accuracy: 0.8100 - val_loss: 0.0565 - val_accuracy: 0.9005\n",
            "Epoch 2/3\n",
            "100/100 [==============================] - 51s 507ms/step - loss: 0.0563 - accuracy: 0.7268 - val_loss: 0.0262 - val_accuracy: 0.0996\n",
            "Epoch 3/3\n",
            "100/100 [==============================] - 51s 508ms/step - loss: 0.0567 - accuracy: 0.7563 - val_loss: 0.0499 - val_accuracy: 0.0996\n",
            "\n",
            "Accuracy: 9.96%\n",
            "\n",
            "learning rate: 1.1e-06\n",
            "num_dense_layers: 5\n",
            "num_dense_nodes: 2\n",
            "activation: sigmoid\n",
            "\n",
            "Working 01\n",
            "Working 02\n",
            "Working 03\n",
            "Working 04\n",
            "Working 05\n",
            "Working 06\n",
            "Epoch 1/3\n",
            "100/100 [==============================] - 54s 539ms/step - loss: 0.0485 - accuracy: 0.1222 - val_loss: 0.0461 - val_accuracy: 0.0995\n",
            "Epoch 2/3\n",
            "100/100 [==============================] - 53s 529ms/step - loss: 0.0482 - accuracy: 0.1226 - val_loss: 0.0461 - val_accuracy: 0.0995\n",
            "Epoch 3/3\n",
            "100/100 [==============================] - 53s 529ms/step - loss: 0.0483 - accuracy: 0.1225 - val_loss: 0.0460 - val_accuracy: 0.0995\n",
            "\n",
            "Accuracy: 9.95%\n",
            "\n",
            "learning rate: 1.1e-06\n",
            "num_dense_layers: 1\n",
            "num_dense_nodes: 2\n",
            "activation: relu\n",
            "\n",
            "Working 01\n",
            "Working 02\n",
            "Working 03\n",
            "Working 04\n",
            "Working 05\n",
            "Working 06\n",
            "Epoch 1/3\n",
            "100/100 [==============================] - 52s 516ms/step - loss: 0.2070 - accuracy: 0.7522 - val_loss: 0.1800 - val_accuracy: 0.8470\n",
            "Epoch 2/3\n",
            "100/100 [==============================] - 51s 510ms/step - loss: 0.1407 - accuracy: 0.8571 - val_loss: 0.1182 - val_accuracy: 0.8965\n",
            "Epoch 3/3\n",
            "100/100 [==============================] - 51s 509ms/step - loss: 0.0880 - accuracy: 0.8771 - val_loss: 0.0696 - val_accuracy: 0.9005\n",
            "\n",
            "Accuracy: 90.05%\n",
            "\n"
          ],
          "name": "stdout"
        },
        {
          "output_type": "stream",
          "text": [
            "/usr/local/lib/python3.6/dist-packages/skopt/optimizer/optimizer.py:409: UserWarning: The objective has been evaluated at this point before.\n",
            "  warnings.warn(\"The objective has been evaluated \"\n"
          ],
          "name": "stderr"
        },
        {
          "output_type": "stream",
          "text": [
            "learning rate: 1.0e-06\n",
            "num_dense_layers: 1\n",
            "num_dense_nodes: 2\n",
            "activation: relu\n",
            "\n",
            "Working 01\n",
            "Working 02\n",
            "Working 03\n",
            "Working 04\n",
            "Working 05\n",
            "Working 06\n",
            "Epoch 1/3\n",
            "100/100 [==============================] - 52s 516ms/step - loss: 0.2419 - accuracy: 0.1229 - val_loss: 0.2306 - val_accuracy: 0.0995\n",
            "Epoch 2/3\n",
            "100/100 [==============================] - 51s 510ms/step - loss: 0.2118 - accuracy: 0.1226 - val_loss: 0.2036 - val_accuracy: 0.0995\n",
            "Epoch 3/3\n",
            "100/100 [==============================] - 51s 510ms/step - loss: 0.1643 - accuracy: 0.1217 - val_loss: 0.1341 - val_accuracy: 0.0995\n",
            "\n",
            "Accuracy: 9.95%\n",
            "\n",
            "learning rate: 1.0e-06\n",
            "num_dense_layers: 1\n",
            "num_dense_nodes: 2\n",
            "activation: sigmoid\n",
            "\n",
            "Working 01\n",
            "Working 02\n",
            "Working 03\n",
            "Working 04\n",
            "Working 05\n",
            "Working 06\n",
            "Epoch 1/3\n",
            "100/100 [==============================] - 52s 516ms/step - loss: 0.0202 - accuracy: 0.4723 - val_loss: 0.0171 - val_accuracy: 0.8901\n",
            "Epoch 2/3\n",
            "100/100 [==============================] - 51s 509ms/step - loss: 0.0170 - accuracy: 0.8755 - val_loss: 0.0143 - val_accuracy: 0.9004\n",
            "Epoch 3/3\n",
            "100/100 [==============================] - 51s 509ms/step - loss: 0.0148 - accuracy: 0.8771 - val_loss: 0.0124 - val_accuracy: 0.9005\n",
            "\n",
            "Accuracy: 90.05%\n",
            "\n",
            "learning rate: 1.0e-06\n",
            "num_dense_layers: 1\n",
            "num_dense_nodes: 2\n",
            "activation: sigmoid\n",
            "\n",
            "Working 01\n",
            "Working 02\n",
            "Working 03\n",
            "Working 04\n",
            "Working 05\n",
            "Working 06\n",
            "Epoch 1/3\n",
            "100/100 [==============================] - 52s 516ms/step - loss: 0.0232 - accuracy: 0.1514 - val_loss: 0.0195 - val_accuracy: 0.2307\n",
            "Epoch 2/3\n",
            "100/100 [==============================] - 51s 509ms/step - loss: 0.0193 - accuracy: 0.5196 - val_loss: 0.0161 - val_accuracy: 0.8814\n",
            "Epoch 3/3\n",
            "100/100 [==============================] - 51s 510ms/step - loss: 0.0164 - accuracy: 0.8729 - val_loss: 0.0134 - val_accuracy: 0.9003\n",
            "\n",
            "Accuracy: 90.03%\n",
            "\n",
            "learning rate: 9.6e-03\n",
            "num_dense_layers: 1\n",
            "num_dense_nodes: 2\n",
            "activation: sigmoid\n",
            "\n",
            "Working 01\n",
            "Working 02\n",
            "Working 03\n",
            "Working 04\n",
            "Working 05\n",
            "Working 06\n",
            "Epoch 1/3\n",
            "100/100 [==============================] - 51s 514ms/step - loss: 0.0865 - accuracy: 0.7725 - val_loss: 0.0343 - val_accuracy: 0.9005\n",
            "Epoch 2/3\n",
            "100/100 [==============================] - 51s 507ms/step - loss: 0.0429 - accuracy: 0.7201 - val_loss: 0.0465 - val_accuracy: 0.9005\n",
            "Epoch 3/3\n",
            "100/100 [==============================] - 51s 507ms/step - loss: 0.0424 - accuracy: 0.8033 - val_loss: 0.0352 - val_accuracy: 0.9005\n",
            "\n",
            "Accuracy: 90.05%\n",
            "\n",
            "learning rate: 9.7e-03\n",
            "num_dense_layers: 1\n",
            "num_dense_nodes: 2\n",
            "activation: sigmoid\n",
            "\n",
            "Working 01\n",
            "Working 02\n",
            "Working 03\n",
            "Working 04\n",
            "Working 05\n",
            "Working 06\n",
            "Epoch 1/3\n",
            "100/100 [==============================] - 51s 514ms/step - loss: 0.1117 - accuracy: 0.8316 - val_loss: 0.0545 - val_accuracy: 0.9005\n",
            "Epoch 2/3\n",
            "100/100 [==============================] - 51s 508ms/step - loss: 0.0537 - accuracy: 0.7276 - val_loss: 0.0508 - val_accuracy: 0.9005\n",
            "Epoch 3/3\n",
            "100/100 [==============================] - 51s 507ms/step - loss: 0.0528 - accuracy: 0.7649 - val_loss: 0.0347 - val_accuracy: 0.9005\n",
            "\n",
            "Accuracy: 90.05%\n",
            "\n",
            "learning rate: 9.9e-03\n",
            "num_dense_layers: 1\n",
            "num_dense_nodes: 2\n",
            "activation: sigmoid\n",
            "\n",
            "Working 01\n",
            "Working 02\n",
            "Working 03\n",
            "Working 04\n",
            "Working 05\n",
            "Working 06\n",
            "Epoch 1/3\n",
            "100/100 [==============================] - 51s 512ms/step - loss: nan - accuracy: 0.1815 - val_loss: nan - val_accuracy: 0.0995\n",
            "Epoch 2/3\n",
            "100/100 [==============================] - 51s 507ms/step - loss: nan - accuracy: 0.1220 - val_loss: nan - val_accuracy: 0.0995\n",
            "Epoch 3/3\n",
            "100/100 [==============================] - 51s 506ms/step - loss: nan - accuracy: 0.1220 - val_loss: nan - val_accuracy: 0.0995\n",
            "\n",
            "Accuracy: 9.95%\n",
            "\n",
            "learning rate: 1.0e-06\n",
            "num_dense_layers: 1\n",
            "num_dense_nodes: 2\n",
            "activation: relu\n",
            "\n",
            "Working 01\n",
            "Working 02\n",
            "Working 03\n",
            "Working 04\n",
            "Working 05\n",
            "Working 06\n",
            "Epoch 1/3\n",
            "100/100 [==============================] - 52s 515ms/step - loss: 0.1776 - accuracy: 0.3925 - val_loss: 0.1499 - val_accuracy: 0.5838\n",
            "Epoch 2/3\n",
            "100/100 [==============================] - 51s 510ms/step - loss: 0.1181 - accuracy: 0.7296 - val_loss: 0.0953 - val_accuracy: 0.8494\n",
            "Epoch 3/3\n",
            "100/100 [==============================] - 51s 509ms/step - loss: 0.0712 - accuracy: 0.8562 - val_loss: 0.0532 - val_accuracy: 0.8976\n",
            "\n",
            "Accuracy: 89.76%\n",
            "\n"
          ],
          "name": "stdout"
        },
        {
          "output_type": "stream",
          "text": [
            "/usr/local/lib/python3.6/dist-packages/skopt/optimizer/optimizer.py:409: UserWarning: The objective has been evaluated at this point before.\n",
            "  warnings.warn(\"The objective has been evaluated \"\n"
          ],
          "name": "stderr"
        },
        {
          "output_type": "stream",
          "text": [
            "learning rate: 1.0e-06\n",
            "num_dense_layers: 1\n",
            "num_dense_nodes: 2\n",
            "activation: relu\n",
            "\n",
            "Working 01\n",
            "Working 02\n",
            "Working 03\n",
            "Working 04\n",
            "Working 05\n",
            "Working 06\n",
            "Epoch 1/3\n",
            "100/100 [==============================] - 51s 515ms/step - loss: 0.1853 - accuracy: 0.8640 - val_loss: 0.1618 - val_accuracy: 0.8951\n",
            "Epoch 2/3\n",
            "100/100 [==============================] - 51s 509ms/step - loss: 0.1293 - accuracy: 0.8715 - val_loss: 0.1084 - val_accuracy: 0.8987\n",
            "Epoch 3/3\n",
            "100/100 [==============================] - 51s 509ms/step - loss: 0.0826 - accuracy: 0.8744 - val_loss: 0.0654 - val_accuracy: 0.8996\n",
            "\n",
            "Accuracy: 89.96%\n",
            "\n"
          ],
          "name": "stdout"
        },
        {
          "output_type": "stream",
          "text": [
            "/usr/local/lib/python3.6/dist-packages/skopt/optimizer/optimizer.py:409: UserWarning: The objective has been evaluated at this point before.\n",
            "  warnings.warn(\"The objective has been evaluated \"\n"
          ],
          "name": "stderr"
        },
        {
          "output_type": "stream",
          "text": [
            "learning rate: 1.0e-06\n",
            "num_dense_layers: 1\n",
            "num_dense_nodes: 2\n",
            "activation: relu\n",
            "\n",
            "Working 01\n",
            "Working 02\n",
            "Working 03\n",
            "Working 04\n",
            "Working 05\n",
            "Working 06\n",
            "Epoch 1/3\n",
            "100/100 [==============================] - 52s 518ms/step - loss: 0.2594 - accuracy: 0.7553 - val_loss: 0.2335 - val_accuracy: 0.9006\n",
            "Epoch 2/3\n",
            "100/100 [==============================] - 51s 510ms/step - loss: 0.2019 - accuracy: 0.8780 - val_loss: 0.1821 - val_accuracy: 0.9005\n",
            "Epoch 3/3\n",
            "100/100 [==============================] - 51s 509ms/step - loss: 0.1574 - accuracy: 0.8778 - val_loss: 0.1437 - val_accuracy: 0.9005\n",
            "\n",
            "Accuracy: 90.05%\n",
            "\n",
            "learning rate: 1.1e-06\n",
            "num_dense_layers: 1\n",
            "num_dense_nodes: 2\n",
            "activation: relu\n",
            "\n",
            "Working 01\n",
            "Working 02\n",
            "Working 03\n",
            "Working 04\n",
            "Working 05\n",
            "Working 06\n",
            "Epoch 1/3\n",
            "100/100 [==============================] - 52s 516ms/step - loss: 0.2125 - accuracy: 0.6257 - val_loss: 0.1751 - val_accuracy: 0.6603\n",
            "Epoch 2/3\n",
            "100/100 [==============================] - 51s 510ms/step - loss: 0.1364 - accuracy: 0.7357 - val_loss: 0.1065 - val_accuracy: 0.7727\n",
            "Epoch 3/3\n",
            "100/100 [==============================] - 51s 509ms/step - loss: 0.0780 - accuracy: 0.8116 - val_loss: 0.0553 - val_accuracy: 0.8453\n",
            "\n",
            "Accuracy: 84.53%\n",
            "\n"
          ],
          "name": "stdout"
        },
        {
          "output_type": "stream",
          "text": [
            "/usr/local/lib/python3.6/dist-packages/skopt/optimizer/optimizer.py:409: UserWarning: The objective has been evaluated at this point before.\n",
            "  warnings.warn(\"The objective has been evaluated \"\n"
          ],
          "name": "stderr"
        },
        {
          "output_type": "stream",
          "text": [
            "learning rate: 1.0e-06\n",
            "num_dense_layers: 1\n",
            "num_dense_nodes: 2\n",
            "activation: relu\n",
            "\n",
            "Working 01\n",
            "Working 02\n",
            "Working 03\n",
            "Working 04\n",
            "Working 05\n",
            "Working 06\n",
            "Epoch 1/3\n",
            "100/100 [==============================] - 52s 516ms/step - loss: 0.2037 - accuracy: 0.6982 - val_loss: 0.1736 - val_accuracy: 0.7466\n",
            "Epoch 2/3\n",
            "100/100 [==============================] - 51s 509ms/step - loss: 0.1351 - accuracy: 0.7840 - val_loss: 0.1100 - val_accuracy: 0.8335\n",
            "Epoch 3/3\n",
            "100/100 [==============================] - 51s 508ms/step - loss: 0.0812 - accuracy: 0.8386 - val_loss: 0.0614 - val_accuracy: 0.8784\n",
            "\n",
            "Accuracy: 87.84%\n",
            "\n"
          ],
          "name": "stdout"
        },
        {
          "output_type": "stream",
          "text": [
            "/usr/local/lib/python3.6/dist-packages/skopt/optimizer/optimizer.py:409: UserWarning: The objective has been evaluated at this point before.\n",
            "  warnings.warn(\"The objective has been evaluated \"\n"
          ],
          "name": "stderr"
        },
        {
          "output_type": "stream",
          "text": [
            "learning rate: 1.1e-06\n",
            "num_dense_layers: 1\n",
            "num_dense_nodes: 2\n",
            "activation: relu\n",
            "\n",
            "Working 01\n",
            "Working 02\n",
            "Working 03\n",
            "Working 04\n",
            "Working 05\n",
            "Working 06\n",
            "Epoch 1/3\n",
            "100/100 [==============================] - 51s 515ms/step - loss: 0.2607 - accuracy: 0.7131 - val_loss: 0.2314 - val_accuracy: 0.9005\n",
            "Epoch 2/3\n",
            "100/100 [==============================] - 51s 509ms/step - loss: 0.1969 - accuracy: 0.8774 - val_loss: 0.1751 - val_accuracy: 0.9005\n",
            "Epoch 3/3\n",
            "100/100 [==============================] - 51s 509ms/step - loss: 0.1496 - accuracy: 0.8776 - val_loss: 0.1356 - val_accuracy: 0.9005\n",
            "\n",
            "Accuracy: 90.05%\n",
            "\n"
          ],
          "name": "stdout"
        },
        {
          "output_type": "stream",
          "text": [
            "/usr/local/lib/python3.6/dist-packages/skopt/optimizer/optimizer.py:409: UserWarning: The objective has been evaluated at this point before.\n",
            "  warnings.warn(\"The objective has been evaluated \"\n"
          ],
          "name": "stderr"
        },
        {
          "output_type": "stream",
          "text": [
            "learning rate: 1.0e-06\n",
            "num_dense_layers: 1\n",
            "num_dense_nodes: 2\n",
            "activation: sigmoid\n",
            "\n",
            "Working 01\n",
            "Working 02\n",
            "Working 03\n",
            "Working 04\n",
            "Working 05\n",
            "Working 06\n",
            "Epoch 1/3\n",
            "100/100 [==============================] - 52s 516ms/step - loss: 0.0193 - accuracy: 0.7020 - val_loss: 0.0163 - val_accuracy: 0.8911\n",
            "Epoch 2/3\n",
            "100/100 [==============================] - 51s 509ms/step - loss: 0.0166 - accuracy: 0.8757 - val_loss: 0.0138 - val_accuracy: 0.9005\n",
            "Epoch 3/3\n",
            "100/100 [==============================] - 51s 509ms/step - loss: 0.0145 - accuracy: 0.8775 - val_loss: 0.0122 - val_accuracy: 0.9005\n",
            "\n",
            "Accuracy: 90.05%\n",
            "\n",
            "CPU times: user 1h 24min 7s, sys: 30min 6s, total: 1h 54min 13s\n",
            "Wall time: 1h 45min 24s\n"
          ],
          "name": "stdout"
        }
      ]
    },
    {
      "cell_type": "code",
      "metadata": {
        "id": "oTfDN3jJVQLy",
        "colab_type": "code",
        "colab": {
          "base_uri": "https://localhost:8080/",
          "height": 35
        },
        "outputId": "4176ce49-7326-41aa-9f00-bb8cded574bd"
      },
      "source": [
        "#The best hyper-parameters found by the Bayesian optimizer are packed as a list because that is what it uses internally.\n",
        "search_result.x"
      ],
      "execution_count": 328,
      "outputs": [
        {
          "output_type": "execute_result",
          "data": {
            "text/plain": [
              "[1e-05, 1, 2, 'relu']"
            ]
          },
          "metadata": {
            "tags": []
          },
          "execution_count": 328
        }
      ]
    },
    {
      "cell_type": "code",
      "metadata": {
        "id": "khZrnMr9VUzi",
        "colab_type": "code",
        "colab": {
          "base_uri": "https://localhost:8080/",
          "height": 745
        },
        "outputId": "3601f25d-5f42-4b57-a050-e41e132ef04f"
      },
      "source": [
        "#All Combinations\n",
        "sorted(zip(search_result.func_vals, search_result.x_iters))"
      ],
      "execution_count": 329,
      "outputs": [
        {
          "output_type": "execute_result",
          "data": {
            "text/plain": [
              "[(-0.9004773497581482, [1e-06, 1, 2, 'relu']),\n",
              " (-0.9004773497581482, [1.00055231268787e-06, 1, 2, 'relu']),\n",
              " (-0.9004773497581482, [1.0270975420478487e-06, 1, 2, 'relu']),\n",
              " (-0.9004773497581482, [1.031645954276585e-06, 1, 2, 'sigmoid']),\n",
              " (-0.9004773497581482, [1.0384491254884664e-06, 1, 2, 'sigmoid']),\n",
              " (-0.9004773497581482, [1.0705807450617685e-06, 1, 2, 'relu']),\n",
              " (-0.9004773497581482, [1.071357755235807e-06, 1, 2, 'relu']),\n",
              " (-0.9004773497581482, [1e-05, 1, 2, 'relu']),\n",
              " (-0.9004773497581482, [5.963501238949907e-05, 5, 2, 'sigmoid']),\n",
              " (-0.9004773497581482, [0.007847639489349701, 2, 2, 'sigmoid']),\n",
              " (-0.9004773497581482, [0.009187399323778867, 1, 2, 'sigmoid']),\n",
              " (-0.9004773497581482, [0.00957457917915935, 1, 2, 'sigmoid']),\n",
              " (-0.9004773497581482, [0.00972226822825089, 1, 2, 'sigmoid']),\n",
              " (-0.9004773497581482, [0.009827961666397543, 1, 2, 'sigmoid']),\n",
              " (-0.9004773497581482, [0.009953912326674029, 1, 2, 'sigmoid']),\n",
              " (-0.9003872871398926, [1.0115703414385757e-06, 1, 2, 'relu']),\n",
              " (-0.900297224521637, [1.0062926493143082e-06, 1, 2, 'sigmoid']),\n",
              " (-0.8996367454528809, [1.006458147341797e-06, 1, 2, 'relu']),\n",
              " (-0.897595226764679, [1.024172995442028e-06, 1, 2, 'relu']),\n",
              " (-0.8956137895584106, [0.0005991226449827969, 1, 2, 'sigmoid']),\n",
              " (-0.8783811926841736, [1.032529647346662e-06, 1, 2, 'relu']),\n",
              " (-0.8452670574188232, [1.1007702346597393e-06, 1, 2, 'relu']),\n",
              " (-0.09958269447088242, [0.00417963889538799, 3, 2, 'relu']),\n",
              " (-0.09958269447088242, [0.009890003467462908, 1, 2, 'sigmoid']),\n",
              " (-0.09955267608165741, [0.00871342676470863, 2, 2, 'sigmoid']),\n",
              " (-0.09955267608165741, [0.009942353202952942, 1, 2, 'sigmoid']),\n",
              " (-0.0995226502418518, [1.0048676591212778e-06, 1, 2, 'relu']),\n",
              " (-0.0995226502418518, [1.0587685442925035e-06, 1, 2, 'relu']),\n",
              " (-0.0995226502418518, [1.084711331233181e-06, 5, 2, 'sigmoid']),\n",
              " (-0.0995226502418518, [1.951174263059459e-06, 2, 2, 'relu']),\n",
              " (-0.0995226502418518, [4.369474838742532e-05, 5, 2, 'relu']),\n",
              " (-0.0995226502418518, [0.00043877253083958006, 4, 2, 'sigmoid']),\n",
              " (-0.0995226502418518, [0.009851155993436254, 1, 2, 'sigmoid']),\n",
              " (-0.0, [1.679547640992008e-06, 1, 1, 'sigmoid']),\n",
              " (-0.0, [1.7767217846993442e-06, 2, 1, 'relu']),\n",
              " (-0.0, [1.4512518057554174e-05, 4, 1, 'sigmoid']),\n",
              " (-0.0, [2.935051206780389e-05, 3, 1, 'sigmoid']),\n",
              " (-0.0, [8.019265653693562e-05, 4, 1, 'sigmoid']),\n",
              " (-0.0, [0.00048581897697329095, 4, 1, 'sigmoid']),\n",
              " (-0.0, [0.00913579911521298, 5, 1, 'relu'])]"
            ]
          },
          "metadata": {
            "tags": []
          },
          "execution_count": 329
        }
      ]
    },
    {
      "cell_type": "code",
      "metadata": {
        "id": "UdAPcDzpVWJa",
        "colab_type": "code",
        "colab": {}
      },
      "source": [
        "#Evaluate Best Model on Test-Set\n",
        "#We can now use the best model on the test-set. It is very easy to reload the model using Keras."
      ],
      "execution_count": 0,
      "outputs": []
    },
    {
      "cell_type": "code",
      "metadata": {
        "id": "yu6D86CRVXyK",
        "colab_type": "code",
        "colab": {}
      },
      "source": [
        "from tensorflow.keras.models import load_model\n",
        "#model = load_model(path_best_model)"
      ],
      "execution_count": 0,
      "outputs": []
    },
    {
      "cell_type": "code",
      "metadata": {
        "id": "xt_8t4BeVZ76",
        "colab_type": "code",
        "colab": {}
      },
      "source": [
        "#result = model.evaluate(x=np.expand_dims(x_test_scaled, axis=0),\n",
        " #                       y=np.expand_dims(y_test_scaled, axis=0))"
      ],
      "execution_count": 0,
      "outputs": []
    },
    {
      "cell_type": "code",
      "metadata": {
        "id": "PzMrlGmCVbea",
        "colab_type": "code",
        "colab": {}
      },
      "source": [
        "#  Generate Predictions and plot."
      ],
      "execution_count": 0,
      "outputs": []
    },
    {
      "cell_type": "code",
      "metadata": {
        "id": "icZEjOQtVg0K",
        "colab_type": "code",
        "colab": {}
      },
      "source": [
        ""
      ],
      "execution_count": 0,
      "outputs": []
    },
    {
      "cell_type": "code",
      "metadata": {
        "id": "JyDvkUI_YxfZ",
        "colab_type": "code",
        "colab": {}
      },
      "source": [
        ""
      ],
      "execution_count": 0,
      "outputs": []
    },
    {
      "cell_type": "code",
      "metadata": {
        "id": "Olskme6qY1_e",
        "colab_type": "code",
        "colab": {}
      },
      "source": [
        ""
      ],
      "execution_count": 0,
      "outputs": []
    },
    {
      "cell_type": "code",
      "metadata": {
        "id": "YXTQdIiDY4Td",
        "colab_type": "code",
        "colab": {}
      },
      "source": [
        ""
      ],
      "execution_count": 0,
      "outputs": []
    },
    {
      "cell_type": "code",
      "metadata": {
        "id": "dfvq6GlcY7CF",
        "colab_type": "code",
        "colab": {}
      },
      "source": [
        ""
      ],
      "execution_count": 0,
      "outputs": []
    },
    {
      "cell_type": "code",
      "metadata": {
        "id": "o1H4qEnoZBCV",
        "colab_type": "code",
        "colab": {}
      },
      "source": [
        ""
      ],
      "execution_count": 0,
      "outputs": []
    },
    {
      "cell_type": "code",
      "metadata": {
        "id": "rQIA3WpvZDet",
        "colab_type": "code",
        "colab": {}
      },
      "source": [
        ""
      ],
      "execution_count": 0,
      "outputs": []
    },
    {
      "cell_type": "code",
      "metadata": {
        "id": "a-1uX7YxZPPk",
        "colab_type": "code",
        "colab": {}
      },
      "source": [
        ""
      ],
      "execution_count": 0,
      "outputs": []
    },
    {
      "cell_type": "code",
      "metadata": {
        "id": "f4OMURJiZVAM",
        "colab_type": "code",
        "colab": {}
      },
      "source": [
        ""
      ],
      "execution_count": 0,
      "outputs": []
    },
    {
      "cell_type": "code",
      "metadata": {
        "id": "Zg_3I33LZYeE",
        "colab_type": "code",
        "colab": {}
      },
      "source": [
        ""
      ],
      "execution_count": 0,
      "outputs": []
    },
    {
      "cell_type": "code",
      "metadata": {
        "id": "m98CHGNlZfhL",
        "colab_type": "code",
        "colab": {}
      },
      "source": [
        ""
      ],
      "execution_count": 0,
      "outputs": []
    },
    {
      "cell_type": "markdown",
      "metadata": {
        "id": "k2w7pFCPZmqk",
        "colab_type": "text"
      },
      "source": [
        ""
      ]
    },
    {
      "cell_type": "markdown",
      "metadata": {
        "id": "JaMVYgsxZmtQ",
        "colab_type": "text"
      },
      "source": [
        "LINK:\n",
        "\n",
        "https://github.com/Hvass-Labs/TensorFlow-Tutorials/blob/master/23_Time-Series-Prediction.ipynb"
      ]
    },
    {
      "cell_type": "markdown",
      "metadata": {
        "id": "VyNHkGF4Zny8",
        "colab_type": "text"
      },
      "source": [
        "Exercises\n",
        "These are a few suggestions for exercises that may help improve your skills with TensorFlow. It is important to get hands-on experience with TensorFlow in order to learn how to use it properly.\n",
        "\n",
        "1. You may want to backup this Notebook before making any changes.\n",
        "\n",
        "2. Remove the wind-speed from the target-data. Does it improve prediction for the temperature and pressure?\n",
        "\n",
        "3. Train for more epochs, possibly with a lower learning-rate. Does it improve the performance on the test-set?\n",
        "\n",
        "4. Try a different architecture for the neural network, e.g. higher or lower state-size for the GRU layer, more GRU layers, dense layers before and after the GRU layers, etc.\n",
        "\n",
        "\n",
        "5. Use hyper-parameter optimization from Tutorial #19.\n",
        "\n",
        "6. Try using longer and shorter sequences for the batch-generator.\n",
        "\n",
        "7. Try and remove the city \"Odense\" from the input-signals.\n",
        "\n",
        "8. Try and add last year's weather-data to the input-signals.\n",
        "\n",
        "9. How good is the model at predicting the weather 3 or 7 days into the future?\n",
        "\n",
        "10. Can you train a single model with the output-signals for multiple time-shifts, so that a single model predicts the weather in e.g. 1, 3 and 7 days.\n",
        "\n",
        "\n",
        "\n",
        "Explain to a friend how the program works."
      ]
    },
    {
      "cell_type": "code",
      "metadata": {
        "id": "mtj1-lZ4ZrSS",
        "colab_type": "code",
        "colab": {
          "base_uri": "https://localhost:8080/",
          "height": 978
        },
        "outputId": "762b8fcf-0e2d-4731-c09a-ea7d45d93a4d"
      },
      "source": [
        "df_targets.tail(30)\n"
      ],
      "execution_count": 327,
      "outputs": [
        {
          "output_type": "execute_result",
          "data": {
            "text/html": [
              "<div>\n",
              "<style scoped>\n",
              "    .dataframe tbody tr th:only-of-type {\n",
              "        vertical-align: middle;\n",
              "    }\n",
              "\n",
              "    .dataframe tbody tr th {\n",
              "        vertical-align: top;\n",
              "    }\n",
              "\n",
              "    .dataframe thead th {\n",
              "        text-align: right;\n",
              "    }\n",
              "</style>\n",
              "<table border=\"1\" class=\"dataframe\">\n",
              "  <thead>\n",
              "    <tr style=\"text-align: right;\">\n",
              "      <th></th>\n",
              "      <th>Temp</th>\n",
              "      <th>Pressure</th>\n",
              "    </tr>\n",
              "    <tr>\n",
              "      <th>DateTime</th>\n",
              "      <th></th>\n",
              "      <th></th>\n",
              "    </tr>\n",
              "  </thead>\n",
              "  <tbody>\n",
              "    <tr>\n",
              "      <th>2018-02-28 18:00:00</th>\n",
              "      <td>-3.9</td>\n",
              "      <td>1020.8</td>\n",
              "    </tr>\n",
              "    <tr>\n",
              "      <th>2018-02-28 19:00:00</th>\n",
              "      <td>-4.4</td>\n",
              "      <td>1020.4</td>\n",
              "    </tr>\n",
              "    <tr>\n",
              "      <th>2018-02-28 20:00:00</th>\n",
              "      <td>-5.0</td>\n",
              "      <td>1019.8</td>\n",
              "    </tr>\n",
              "    <tr>\n",
              "      <th>2018-02-28 21:00:00</th>\n",
              "      <td>-5.2</td>\n",
              "      <td>1019.2</td>\n",
              "    </tr>\n",
              "    <tr>\n",
              "      <th>2018-02-28 22:00:00</th>\n",
              "      <td>-5.0</td>\n",
              "      <td>1018.7</td>\n",
              "    </tr>\n",
              "    <tr>\n",
              "      <th>2018-02-28 23:00:00</th>\n",
              "      <td>-4.7</td>\n",
              "      <td>1018.3</td>\n",
              "    </tr>\n",
              "    <tr>\n",
              "      <th>2018-03-01 00:00:00</th>\n",
              "      <td>NaN</td>\n",
              "      <td>NaN</td>\n",
              "    </tr>\n",
              "    <tr>\n",
              "      <th>2018-03-01 01:00:00</th>\n",
              "      <td>NaN</td>\n",
              "      <td>NaN</td>\n",
              "    </tr>\n",
              "    <tr>\n",
              "      <th>2018-03-01 02:00:00</th>\n",
              "      <td>NaN</td>\n",
              "      <td>NaN</td>\n",
              "    </tr>\n",
              "    <tr>\n",
              "      <th>2018-03-01 03:00:00</th>\n",
              "      <td>NaN</td>\n",
              "      <td>NaN</td>\n",
              "    </tr>\n",
              "    <tr>\n",
              "      <th>2018-03-01 04:00:00</th>\n",
              "      <td>NaN</td>\n",
              "      <td>NaN</td>\n",
              "    </tr>\n",
              "    <tr>\n",
              "      <th>2018-03-01 05:00:00</th>\n",
              "      <td>NaN</td>\n",
              "      <td>NaN</td>\n",
              "    </tr>\n",
              "    <tr>\n",
              "      <th>2018-03-01 06:00:00</th>\n",
              "      <td>NaN</td>\n",
              "      <td>NaN</td>\n",
              "    </tr>\n",
              "    <tr>\n",
              "      <th>2018-03-01 07:00:00</th>\n",
              "      <td>NaN</td>\n",
              "      <td>NaN</td>\n",
              "    </tr>\n",
              "    <tr>\n",
              "      <th>2018-03-01 08:00:00</th>\n",
              "      <td>NaN</td>\n",
              "      <td>NaN</td>\n",
              "    </tr>\n",
              "    <tr>\n",
              "      <th>2018-03-01 09:00:00</th>\n",
              "      <td>NaN</td>\n",
              "      <td>NaN</td>\n",
              "    </tr>\n",
              "    <tr>\n",
              "      <th>2018-03-01 10:00:00</th>\n",
              "      <td>NaN</td>\n",
              "      <td>NaN</td>\n",
              "    </tr>\n",
              "    <tr>\n",
              "      <th>2018-03-01 11:00:00</th>\n",
              "      <td>NaN</td>\n",
              "      <td>NaN</td>\n",
              "    </tr>\n",
              "    <tr>\n",
              "      <th>2018-03-01 12:00:00</th>\n",
              "      <td>NaN</td>\n",
              "      <td>NaN</td>\n",
              "    </tr>\n",
              "    <tr>\n",
              "      <th>2018-03-01 13:00:00</th>\n",
              "      <td>NaN</td>\n",
              "      <td>NaN</td>\n",
              "    </tr>\n",
              "    <tr>\n",
              "      <th>2018-03-01 14:00:00</th>\n",
              "      <td>NaN</td>\n",
              "      <td>NaN</td>\n",
              "    </tr>\n",
              "    <tr>\n",
              "      <th>2018-03-01 15:00:00</th>\n",
              "      <td>NaN</td>\n",
              "      <td>NaN</td>\n",
              "    </tr>\n",
              "    <tr>\n",
              "      <th>2018-03-01 16:00:00</th>\n",
              "      <td>NaN</td>\n",
              "      <td>NaN</td>\n",
              "    </tr>\n",
              "    <tr>\n",
              "      <th>2018-03-01 17:00:00</th>\n",
              "      <td>NaN</td>\n",
              "      <td>NaN</td>\n",
              "    </tr>\n",
              "    <tr>\n",
              "      <th>2018-03-01 18:00:00</th>\n",
              "      <td>NaN</td>\n",
              "      <td>NaN</td>\n",
              "    </tr>\n",
              "    <tr>\n",
              "      <th>2018-03-01 19:00:00</th>\n",
              "      <td>NaN</td>\n",
              "      <td>NaN</td>\n",
              "    </tr>\n",
              "    <tr>\n",
              "      <th>2018-03-01 20:00:00</th>\n",
              "      <td>NaN</td>\n",
              "      <td>NaN</td>\n",
              "    </tr>\n",
              "    <tr>\n",
              "      <th>2018-03-01 21:00:00</th>\n",
              "      <td>NaN</td>\n",
              "      <td>NaN</td>\n",
              "    </tr>\n",
              "    <tr>\n",
              "      <th>2018-03-01 22:00:00</th>\n",
              "      <td>NaN</td>\n",
              "      <td>NaN</td>\n",
              "    </tr>\n",
              "    <tr>\n",
              "      <th>2018-03-01 23:00:00</th>\n",
              "      <td>NaN</td>\n",
              "      <td>NaN</td>\n",
              "    </tr>\n",
              "  </tbody>\n",
              "</table>\n",
              "</div>"
            ],
            "text/plain": [
              "                     Temp  Pressure\n",
              "DateTime                           \n",
              "2018-02-28 18:00:00  -3.9    1020.8\n",
              "2018-02-28 19:00:00  -4.4    1020.4\n",
              "2018-02-28 20:00:00  -5.0    1019.8\n",
              "2018-02-28 21:00:00  -5.2    1019.2\n",
              "2018-02-28 22:00:00  -5.0    1018.7\n",
              "2018-02-28 23:00:00  -4.7    1018.3\n",
              "2018-03-01 00:00:00   NaN       NaN\n",
              "2018-03-01 01:00:00   NaN       NaN\n",
              "2018-03-01 02:00:00   NaN       NaN\n",
              "2018-03-01 03:00:00   NaN       NaN\n",
              "2018-03-01 04:00:00   NaN       NaN\n",
              "2018-03-01 05:00:00   NaN       NaN\n",
              "2018-03-01 06:00:00   NaN       NaN\n",
              "2018-03-01 07:00:00   NaN       NaN\n",
              "2018-03-01 08:00:00   NaN       NaN\n",
              "2018-03-01 09:00:00   NaN       NaN\n",
              "2018-03-01 10:00:00   NaN       NaN\n",
              "2018-03-01 11:00:00   NaN       NaN\n",
              "2018-03-01 12:00:00   NaN       NaN\n",
              "2018-03-01 13:00:00   NaN       NaN\n",
              "2018-03-01 14:00:00   NaN       NaN\n",
              "2018-03-01 15:00:00   NaN       NaN\n",
              "2018-03-01 16:00:00   NaN       NaN\n",
              "2018-03-01 17:00:00   NaN       NaN\n",
              "2018-03-01 18:00:00   NaN       NaN\n",
              "2018-03-01 19:00:00   NaN       NaN\n",
              "2018-03-01 20:00:00   NaN       NaN\n",
              "2018-03-01 21:00:00   NaN       NaN\n",
              "2018-03-01 22:00:00   NaN       NaN\n",
              "2018-03-01 23:00:00   NaN       NaN"
            ]
          },
          "metadata": {
            "tags": []
          },
          "execution_count": 327
        }
      ]
    },
    {
      "cell_type": "code",
      "metadata": {
        "id": "jolAYuvU063Q",
        "colab_type": "code",
        "colab": {}
      },
      "source": [
        ""
      ],
      "execution_count": 0,
      "outputs": []
    }
  ]
}